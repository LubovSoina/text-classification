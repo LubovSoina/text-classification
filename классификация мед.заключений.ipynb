{
 "cells": [
  {
   "cell_type": "code",
   "execution_count": 133,
   "metadata": {},
   "outputs": [],
   "source": [
    "import warnings\n",
    "warnings.filterwarnings('ignore')"
   ]
  },
  {
   "cell_type": "code",
   "execution_count": 134,
   "metadata": {},
   "outputs": [],
   "source": [
    "import pandas as pd\n",
    "import numpy as np\n",
    "from tqdm.auto import tqdm, trange\n",
    "import nltk\n",
    "import re\n",
    "from nltk.stem.snowball import SnowballStemmer \n",
    "stemmer = SnowballStemmer(\"russian\")\n",
    "from tqdm import tqdm\n",
    "import matplotlib.pyplot as plt  \n",
    "from sklearn.datasets import make_classification\n",
    "from sklearn.metrics import plot_confusion_matrix\n",
    "from sklearn.model_selection import train_test_split\n",
    "import string\n",
    "from nltk import word_tokenize\n",
    "from sklearn.linear_model import LogisticRegression"
   ]
  },
  {
   "cell_type": "code",
   "execution_count": 135,
   "metadata": {},
   "outputs": [],
   "source": [
    "from nltk.stem import *\n",
    "from nltk.corpus import stopwords\n",
    "from pymystem3 import Mystem\n",
    "from string import punctuation\n",
    "mystem = Mystem() "
   ]
  },
  {
   "cell_type": "code",
   "execution_count": 136,
   "metadata": {},
   "outputs": [],
   "source": [
    "from sklearn.feature_extraction.text import TfidfVectorizer\n",
    "from xgboost import XGBClassifier\n",
    "from sklearn.metrics import precision_score,precision_recall_fscore_support,balanced_accuracy_score"
   ]
  },
  {
   "cell_type": "code",
   "execution_count": 137,
   "metadata": {},
   "outputs": [],
   "source": [
    "def remove_punctuation(text):\n",
    "    return \"\".join([ch if ch not in string.punctuation else ' ' for ch in text])\n",
    "\n",
    "def remove_numbers(text):\n",
    "    return ''.join([i if not i.isdigit() else ' ' for i in text])\n",
    "\n",
    "def remove_multiple_spaces(text):\n",
    "\treturn re.sub(r'\\s+', ' ', text, flags=re.I)\n",
    "\n",
    "\n",
    "russian_stopwords = ['и', 'в', 'во', 'что', 'он', 'на', 'я', 'как', 'а', 'то', 'все', 'она', 'так',\n",
    "                     'его', 'но', 'да', 'ты', 'к', 'у', 'же', 'вы',    'за', 'бы', 'по', 'только', \n",
    "                     'ее', 'мне', 'было', 'вот', 'от', 'меня', 'еще',  'о', 'из', 'ему', 'теперь', \n",
    "                     'когда', 'даже', 'ну', 'вдруг', 'ли', 'если', \n",
    "                     'уже', 'или', 'ни', 'быть', 'был', 'него', 'до', 'вас', 'нибудь', \n",
    "                     'опять', 'уж', 'вам', 'ведь', 'там', 'потом', 'себя', 'ничего', 'ей', \n",
    "                     'может', 'они',  'где', 'есть', 'надо', 'ней', 'для', 'мы', 'тебя', \n",
    "                     'их', 'чем', 'была', 'сам', 'чтоб',  'будто', 'чего', 'раз', 'тоже', 'себе', \n",
    "                     'под', 'будет', 'ж', 'тогда', 'кто', 'этот', 'того', 'потому', 'этого', 'какой',\n",
    "                     'совсем', 'ним',  'этом', 'один', 'почти', 'мой', 'тем', 'чтобы',\n",
    "                     'нее', 'сейчас', 'были', 'куда', 'зачем', 'всех', 'никогда', 'можно', 'при', \n",
    "                     'наконец', 'два', 'об',  'хоть', 'после', 'над',  'тот', \n",
    "                     'через', 'эти', 'нас', 'про', 'всего', 'них', 'какая',  'разве', \n",
    "                     'три', 'эту', 'моя', 'впрочем', 'хорошо', 'свою', 'этой', 'перед', \n",
    "                     'иногда', 'лучше', 'чуть', 'том', 'нельзя', 'такой', 'им',  \n",
    "                     'всегда', 'конечно', 'всю', 'между','…', '«', '»', '...''…', '«', '»', '...']\n",
    "\n"
   ]
  },
  {
   "cell_type": "code",
   "execution_count": 138,
   "metadata": {},
   "outputs": [],
   "source": [
    "def text_processing(df,feature):\n",
    "    df['text_prep']=[remove_multiple_spaces(remove_numbers(remove_punctuation(text.lower()))) for text in tqdm(df[feature].astype(str))]\n",
    "    stemmed_texts_list = []\n",
    "    df=df.drop_duplicates(subset=[feature])\n",
    "    for text in tqdm(df['text_prep']):\n",
    "        tokens = word_tokenize(text)    \n",
    "        stemmed_tokens = [stemmer.stem(token) for token in tokens if token not in russian_stopwords]\n",
    "        text = \" \".join(stemmed_tokens)\n",
    "        stemmed_texts_list.append(text)\n",
    "    df['text_stem'] = stemmed_texts_list\n",
    "    df_prep=df.drop_duplicates(subset=['text_stem'])\n",
    "    df_prep.reset_index(inplace=True)\n",
    "    return df_prep"
   ]
  },
  {
   "cell_type": "code",
   "execution_count": 195,
   "metadata": {},
   "outputs": [],
   "source": [
    "def classification(df,feature,target,n_estimators):\n",
    "    \n",
    "    v = TfidfVectorizer(decode_error='replace', encoding='utf-8',ngram_range=(1,2))\n",
    "    X = v.fit_transform(df[feature]).toarray()\n",
    "    y=df[target]\n",
    "    X_train, X_test, y_train, y_test = train_test_split(X, y, test_size=0.3, random_state=12)\n",
    "    \n",
    "    clf = XGBClassifier(objective='multi:softprob',n_estimators=n_estimators)\n",
    "    clf.fit(X_train, y_train)\n",
    "\n",
    "    y_pred = clf.predict(X_test)\n",
    "    \n",
    "    return clf,X_test, y_test,y_pred,X_train, y_train,v"
   ]
  },
  {
   "cell_type": "code",
   "execution_count": 140,
   "metadata": {},
   "outputs": [],
   "source": [
    "def feature_importance(clf,v):\n",
    "    vocab = v.get_feature_names()\n",
    "    feature_importances = clf.feature_importances_\n",
    "\n",
    "    for f_idx in np.argsort(feature_importances)[::-1]:\n",
    "        word = vocab[f_idx]\n",
    "        importance = feature_importances[f_idx]\n",
    "        if importance > 0:\n",
    "            print(word, importance)"
   ]
  },
  {
   "cell_type": "markdown",
   "metadata": {},
   "source": [
    "  "
   ]
  },
  {
   "cell_type": "markdown",
   "metadata": {},
   "source": [
    " "
   ]
  },
  {
   "cell_type": "markdown",
   "metadata": {},
   "source": [
    " \n",
    " "
   ]
  },
  {
   "cell_type": "markdown",
   "metadata": {},
   "source": [
    "  \n",
    "    \n",
    "    \n",
    "    \n",
    "    \n",
    "    "
   ]
  },
  {
   "cell_type": "markdown",
   "metadata": {},
   "source": [
    " "
   ]
  },
  {
   "cell_type": "markdown",
   "metadata": {},
   "source": [
    "## Файл КТ с 4 классами: норма, вирусная пневмония, онкология, иные патологии "
   ]
  },
  {
   "cell_type": "code",
   "execution_count": 149,
   "metadata": {},
   "outputs": [],
   "source": [
    "four_class=pd.read_excel('C:/Users/l.soina/Downloads/Telegram Desktop/four_class_unique_onlytext_prep.xlsx')"
   ]
  },
  {
   "cell_type": "code",
   "execution_count": 150,
   "metadata": {},
   "outputs": [
    {
     "data": {
      "text/html": [
       "<div>\n",
       "<style scoped>\n",
       "    .dataframe tbody tr th:only-of-type {\n",
       "        vertical-align: middle;\n",
       "    }\n",
       "\n",
       "    .dataframe tbody tr th {\n",
       "        vertical-align: top;\n",
       "    }\n",
       "\n",
       "    .dataframe thead th {\n",
       "        text-align: right;\n",
       "    }\n",
       "</style>\n",
       "<table border=\"1\" class=\"dataframe\">\n",
       "  <thead>\n",
       "    <tr style=\"text-align: right;\">\n",
       "      <th></th>\n",
       "      <th>Наименование процедуры_x</th>\n",
       "      <th>Описание исследования_x</th>\n",
       "      <th>Заключение по исследованию</th>\n",
       "      <th>Патология</th>\n",
       "    </tr>\n",
       "  </thead>\n",
       "  <tbody>\n",
       "    <tr>\n",
       "      <th>0</th>\n",
       "      <td>Компьютерная томография органов грудной полости</td>\n",
       "      <td>\\n\\n          Легкие без очаговых и инфильтрат...</td>\n",
       "      <td>\\n\\n          КТ данные вирусной пневмонии (в ...</td>\n",
       "      <td>0</td>\n",
       "    </tr>\n",
       "    <tr>\n",
       "      <th>1</th>\n",
       "      <td>Компьютерная томография органов грудной полости</td>\n",
       "      <td>\\n\\n          Очагов и инфильтратов не выявлен...</td>\n",
       "      <td>\\n\\n          Органы грудной полости без видим...</td>\n",
       "      <td>0</td>\n",
       "    </tr>\n",
       "    <tr>\n",
       "      <th>2</th>\n",
       "      <td>НДКТ для обследования медицинских работников</td>\n",
       "      <td>\\n\\nИсследование в проекте НДКТ \\nЭЭД     0,09...</td>\n",
       "      <td>\\n\\n      КТ   данных за очаговые  и инфильтра...</td>\n",
       "      <td>0</td>\n",
       "    </tr>\n",
       "    <tr>\n",
       "      <th>3</th>\n",
       "      <td>Компьютерная томография органов грудной полости</td>\n",
       "      <td>\\n\\n     Пневматизация легочной паренхимы не и...</td>\n",
       "      <td>\\n\\n     Без свежих очаговых и инфильтративных...</td>\n",
       "      <td>0</td>\n",
       "    </tr>\n",
       "    <tr>\n",
       "      <th>4</th>\n",
       "      <td>Компьютерная томография органов грудной полости</td>\n",
       "      <td>\\n\\nПневматизация легочной паренхимы не измене...</td>\n",
       "      <td>\\n\\n     Патологических изменений в органах гр...</td>\n",
       "      <td>0</td>\n",
       "    </tr>\n",
       "  </tbody>\n",
       "</table>\n",
       "</div>"
      ],
      "text/plain": [
       "                          Наименование процедуры_x  \\\n",
       "0  Компьютерная томография органов грудной полости   \n",
       "1  Компьютерная томография органов грудной полости   \n",
       "2     НДКТ для обследования медицинских работников   \n",
       "3  Компьютерная томография органов грудной полости   \n",
       "4  Компьютерная томография органов грудной полости   \n",
       "\n",
       "                             Описание исследования_x  \\\n",
       "0  \\n\\n          Легкие без очаговых и инфильтрат...   \n",
       "1  \\n\\n          Очагов и инфильтратов не выявлен...   \n",
       "2  \\n\\nИсследование в проекте НДКТ \\nЭЭД     0,09...   \n",
       "3  \\n\\n     Пневматизация легочной паренхимы не и...   \n",
       "4  \\n\\nПневматизация легочной паренхимы не измене...   \n",
       "\n",
       "                          Заключение по исследованию  Патология  \n",
       "0  \\n\\n          КТ данные вирусной пневмонии (в ...          0  \n",
       "1  \\n\\n          Органы грудной полости без видим...          0  \n",
       "2  \\n\\n      КТ   данных за очаговые  и инфильтра...          0  \n",
       "3  \\n\\n     Без свежих очаговых и инфильтративных...          0  \n",
       "4  \\n\\n     Патологических изменений в органах гр...          0  "
      ]
     },
     "execution_count": 150,
     "metadata": {},
     "output_type": "execute_result"
    }
   ],
   "source": [
    "four_class.head()"
   ]
  },
  {
   "cell_type": "code",
   "execution_count": 151,
   "metadata": {},
   "outputs": [
    {
     "name": "stderr",
     "output_type": "stream",
     "text": [
      "100%|█████████████████████████████████████████████████████████████████████████| 15378/15378 [00:00<00:00, 20696.43it/s]\n",
      "100%|█████████████████████████████████████████████████████████████████████████████| 5573/5573 [00:08<00:00, 677.76it/s]\n"
     ]
    }
   ],
   "source": [
    "four_class_unique_onlytext_prep=text_processing(four_class,'Заключение по исследованию')"
   ]
  },
  {
   "cell_type": "code",
   "execution_count": 235,
   "metadata": {},
   "outputs": [
    {
     "name": "stdout",
     "output_type": "stream",
     "text": [
      "[14:49:09] WARNING: C:/Users/Administrator/workspace/xgboost-win64_release_1.3.0/src/learner.cc:1061: Starting in XGBoost 1.3.0, the default evaluation metric used with the objective 'multi:softprob' was changed from 'merror' to 'mlogloss'. Explicitly set eval_metric if you'd like to restore the old behavior.\n"
     ]
    }
   ],
   "source": [
    "clf,X_test, y_test,y_pred,X_train, y_train,vectorizer=classification(four_class_unique_onlytext_prep,'text_stem','Патология',40)"
   ]
  },
  {
   "cell_type": "code",
   "execution_count": 206,
   "metadata": {},
   "outputs": [
    {
     "name": "stdout",
     "output_type": "stream",
     "text": [
      "тяжел 0.047944553\n",
      "онколог 0.033409983\n",
      "норм 0.031574104\n",
      "дан предыдущ 0.029616896\n",
      "mts 0.024617715\n",
      "отсутств кт 0.023824872\n",
      "тяжест 0.023006402\n",
      "свеж 0.020417666\n",
      "кт дан 0.018422045\n",
      "кт легк 0.017628485\n",
      "выявля 0.017407093\n",
      "отсутств 0.017367434\n",
      "не связа 0.017302802\n",
      "солидн 0.01623779\n",
      "не 0.016107414\n",
      "опухол 0.01404319\n",
      "мтс 0.013904471\n",
      "cr 0.013613496\n",
      "новообразован 0.013330459\n",
      "метастатическ 0.012872308\n",
      "проч проч 0.011532435\n",
      "образован 0.011217202\n",
      "выявл 0.011176811\n",
      "не обнаруж 0.009933749\n",
      "вирусн 0.009699659\n",
      "поражен 0.008995351\n",
      "инфильтративн 0.008521065\n",
      "дан заключен 0.008452605\n",
      "кт норм 0.008276329\n",
      "картин двухсторон 0.0081067765\n",
      "центральн 0.007034764\n",
      "covid не 0.006580797\n",
      "очаг 0.006562585\n",
      "исследован не 0.0064566378\n",
      "грудн клетк 0.006193899\n",
      "вторичн 0.006020708\n",
      "распространен опухолев 0.0054092156\n",
      "кт картин 0.005365226\n",
      "участк 0.00525515\n",
      "вероятн кист 0.0050202673\n",
      "фиброзн 0.0048447186\n",
      "слев 0.0047563002\n",
      "периферическ 0.00465814\n",
      "легк без 0.004599632\n",
      "неопластическ 0.0045808535\n",
      "метастаз 0.004187478\n",
      "прав 0.004171976\n",
      "хроническ 0.004136413\n",
      "кистозн образован 0.0040758713\n",
      "гиподенсивн 0.00407549\n",
      "дан вирусн 0.0040597394\n",
      "эмфизем легк 0.004014127\n",
      "очагов инфильтративн 0.0039431565\n",
      "рекомендова сопоставлен 0.003900846\n",
      "опухолев 0.003880737\n",
      "эмфизем 0.0038123375\n",
      "кт 0.003811086\n",
      "течен вирусн 0.003796873\n",
      "без 0.0037733028\n",
      "наблюда 0.003752938\n",
      "полисегментарн 0.003637261\n",
      "поствоспалительн 0.003628147\n",
      "гидроперикард 0.0035367233\n",
      "генез 0.0035127143\n",
      "не получ 0.0034540123\n",
      "вероятн covid 0.0034171857\n",
      "апикальн 0.0033479214\n",
      "мзв 0.0033292684\n",
      "парасептальн 0.0032445774\n",
      "изменен паренхим 0.0032438282\n",
      "вероятн вирусн 0.0032390063\n",
      "рак 0.0032225365\n",
      "заболеван 0.0030396413\n",
      "обо легк 0.0030375477\n",
      "течен 0.0030271492\n",
      "со 0.0029840032\n",
      "низк вероятн 0.0029636477\n",
      "нет 0.0029598596\n",
      "бронхопневмон 0.00294159\n",
      "грудн 0.002917669\n",
      "правосторон 0.0028312902\n",
      "вирусн пневмон 0.0028088533\n",
      "низк 0.0027364201\n",
      "двусторон 0.0027332872\n",
      "атеросклероз 0.0026302817\n",
      "двухсторон 0.0026134832\n",
      "уплотнен 0.0025926058\n",
      "лимфоузл 0.0025816215\n",
      "отрицательн 0.0025727854\n",
      "состоян 0.0025403784\n",
      "субсолидн 0.0024306958\n",
      "патолог 0.0023821453\n",
      "бронхит 0.0023213888\n",
      "доз 0.0022951448\n",
      "молочн 0.0022852216\n",
      "очагов 0.0022394222\n",
      "печен 0.0022380617\n",
      "признак вирусн 0.002197984\n",
      "вирусн инфекц 0.0021945662\n",
      "пневмон не 0.0021812192\n",
      "повод 0.0021746752\n",
      "проч 0.0020972716\n",
      "не наблюда 0.0020953978\n",
      "патологическ изменен 0.0020733343\n",
      "воспалительн процесс 0.0020504992\n",
      "полисегментарн пневмон 0.0020208075\n",
      "дифференцирова 0.0020025067\n",
      "кальцинирова 0.0019990182\n",
      "консолидац 0.0019742458\n",
      "выражен 0.0019613826\n",
      "налич 0.0019542293\n",
      "описан 0.001940127\n",
      "внутригрудн 0.0019235502\n",
      "этиолог кт 0.0019062568\n",
      "пневмофиброз 0.0019054033\n",
      "lungrads 0.0019052972\n",
      "лимфаденопат средостен 0.001899809\n",
      "легочн 0.0018970806\n",
      "лев 0.0018782319\n",
      "обратн 0.0018206936\n",
      "критическ 0.0017841298\n",
      "кальцинат 0.0017515288\n",
      "консультац терапевт 0.0017377342\n",
      "вирусн этиолог 0.0017293245\n",
      "фиброзн изменен 0.0017203216\n",
      "легк рекомендова 0.0017181657\n",
      "картин течен 0.0016800569\n",
      "саркоидоз 0.0016591732\n",
      "высок 0.0016554085\n",
      "covid 0.001653306\n",
      "легк 0.0016490998\n",
      "susp 0.0016369673\n",
      "коронарн 0.0016335156\n",
      "динамическ 0.001627156\n",
      "онкологическ 0.0016266176\n",
      "дан пневмон 0.0015899199\n",
      "бронхиолит 0.0015876808\n",
      "анамнез 0.0015828636\n",
      "сравнен дан 0.0015809019\n",
      "пневмон патолог 0.0015780072\n",
      "covid проч 0.0015667971\n",
      "лимфаденопат кт 0.001555401\n",
      "дан 0.0015309314\n",
      "дол 0.0015277113\n",
      "треб 0.0015243377\n",
      "тип 0.0015224438\n",
      "лев легк 0.0015120325\n",
      "внутригрудн лимфоузл 0.0015067809\n",
      "щитовидн 0.0014883342\n",
      "легк солидн 0.0014771334\n",
      "изменен легк 0.0014750364\n",
      "мскт 0.001468692\n",
      "лимфатическ 0.0014662452\n",
      "клиник 0.0014364972\n",
      "участк уплотнен 0.0014308263\n",
      "паренхим легк 0.0014277925\n",
      "легк кт 0.0014227184\n",
      "участок 0.0014217744\n",
      "выявл кт 0.0014185979\n",
      "картин отрицательн 0.0014084016\n",
      "справ 0.001399546\n",
      "количествен 0.0013965588\n",
      "фиброз 0.0013769312\n",
      "поствоспалительн пневмофиброз 0.0013679689\n",
      "пневмон 0.0013605781\n",
      "контрол месяц 0.0013583711\n",
      "дан патолог 0.0013387556\n",
      "убедительн 0.0013348933\n",
      "уплотнен субплевральн 0.0013346628\n",
      "вид 0.001332574\n",
      "заключен 0.0013197626\n",
      "желчн пузыр 0.0012861758\n",
      "динамик кт 0.0012763207\n",
      "свеж очагов 0.0012734954\n",
      "возможн 0.0012433128\n",
      "мелк очаг 0.0012431317\n",
      "кт признак 0.0012417892\n",
      "паттерн 0.0012264036\n",
      "эд 0.0012132995\n",
      "дол лев 0.0012111795\n",
      "картин очагов 0.0012065987\n",
      "covid кт 0.0012064362\n",
      "изменен не 0.0012022668\n",
      "дегенеративн изменен 0.00119694\n",
      "кальцинирова очаг 0.001186623\n",
      "сер 0.0011701818\n",
      "соответствова 0.0011148349\n",
      "надпочечник 0.0011110791\n",
      "паренхим 0.0011104869\n",
      "дистрофическ 0.0010825198\n",
      "единичн 0.0010688361\n",
      "мал гидроторакс 0.0010671169\n",
      "динамик 0.0010599935\n",
      "распространен 0.0010511496\n",
      "месяц 0.0010479721\n",
      "верхнедолев 0.0010439863\n",
      "хроническ бронхит 0.0010433684\n",
      "локальн 0.001042288\n",
      "перенесен 0.0010411326\n",
      "очаг средн 0.001036497\n",
      "множествен 0.0010330963\n",
      "исследован 0.0010310587\n",
      "пневмон covid 0.001029014\n",
      "сравнен кт 0.0010275933\n",
      "воспалительн 0.0010187628\n",
      "изменен орган 0.0009886826\n",
      "очаг справ 0.0009804828\n",
      "дополнительн 0.0009760927\n",
      "ст 0.0009655838\n",
      "лабораторн 0.0009641943\n",
      "легочн ткан 0.00095272064\n",
      "признак легочн 0.0009312997\n",
      "гипертенз 0.0009286215\n",
      "консультац 0.00092564465\n",
      "верхн 0.0009232127\n",
      "дан мскт 0.0009210983\n",
      "немногочислен солидн 0.0009195235\n",
      "положительн 0.0009190085\n",
      "картин 0.00091046677\n",
      "легк очагов 0.00089571514\n",
      "характер 0.00089101784\n",
      "аорт 0.00088478794\n",
      "пол вен 0.00088432146\n",
      "признак 0.0008791155\n",
      "без очагов 0.00087504904\n",
      "лимфаденопат 0.00087487145\n",
      "орган 0.0008660761\n",
      "сторон 0.00086078374\n",
      "пол 0.00085097743\n",
      "признак двухсторон 0.00084971485\n",
      "рекоменд 0.0008179554\n",
      "выявл эффективн 0.0008119064\n",
      "прав легк 0.0008109412\n",
      "дол щитовидн 0.00080797303\n",
      "интерстициальн 0.00080438063\n",
      "рекомендова 0.0007995021\n",
      "сегмент 0.00078673876\n",
      "плевр 0.0007641486\n",
      "легк не 0.00076392724\n",
      "картин двусторон 0.0007532989\n",
      "очагов образован 0.0007514369\n",
      "кт кт 0.00075088535\n",
      "узелк обо 0.0007485014\n",
      "ткан 0.0007405778\n",
      "усилен 0.0007351481\n",
      "кт средн 0.0007204926\n",
      "изменен 0.00071190705\n",
      "образован нижн 0.0007072036\n",
      "умерен 0.00070129085\n",
      "средостен 0.0006832454\n",
      "явлен 0.00067285023\n",
      "мал 0.000660693\n",
      "стад 0.0006603914\n",
      "сопоставлен клиник 0.0006538413\n",
      "дан налич 0.0006520669\n",
      "очагов изменен 0.00065081555\n",
      "след дифференцирова 0.0006392903\n",
      "увеличен 0.00063905644\n",
      "бронх 0.0006290446\n",
      "достоверн 0.00062355754\n",
      "обо 0.00061393995\n",
      "вероятн 0.0006106038\n",
      "инфильтративн изменен 0.0006020956\n",
      "пневмон вирусн 0.0005937215\n",
      "клиник кт 0.00059230096\n",
      "пневмосклероз 0.00058037153\n",
      "пневмон кт 0.00057666795\n",
      "картин вирусн 0.00057403086\n",
      "признак двусторон 0.00057135563\n",
      "вторичн изменен 0.0005514108\n",
      "желез 0.00055139867\n",
      "легк периферическ 0.0005445814\n",
      "без признак 0.0005384822\n",
      "очаг обо 0.0005377528\n",
      "рецидив 0.00053744\n",
      "субплевральн 0.00052847405\n",
      "средн 0.00052746554\n",
      "необходим 0.0005122415\n",
      "больш 0.0005082068\n",
      "артер 0.00050513074\n",
      "косвен 0.0005050089\n",
      "контрол 0.00050089386\n",
      "мелк 0.0004934072\n",
      "учитыв 0.00048807327\n",
      "гидроторакс 0.00046495566\n",
      "легк пневмофиброз 0.00045312426\n",
      "этиолог 0.00044247086\n",
      "легк проч 0.00042958974\n",
      "рецидив опухол 0.0004292835\n",
      "дегенеративн 0.0004107451\n",
      "th 0.00040722152\n",
      "поражен средн 0.00040215038\n",
      "налич вирусн 0.00039708373\n",
      "вторичн поражен 0.00038249724\n",
      "дол прав 0.0003776071\n",
      "периферическ образован 0.0003567091\n",
      "диск 0.00035106958\n",
      "образован лев 0.0003459106\n",
      "выда 0.0003383002\n",
      "аортокоронароатеросклероз 0.00033813866\n",
      "этиолог covid 0.00032865122\n",
      "воспалительн изменен 0.0003275905\n",
      "выда диск 0.0003091056\n",
      "отрицательн динамик 0.000303183\n",
      "ран 0.00026661548\n",
      "почк 0.00026167434\n",
      "числ 0.0002563916\n",
      "отдел 0.000256099\n",
      "без динамик 0.0002424519\n",
      "свеж инфильтративн 0.00023731875\n",
      "изменен грудн 0.0002248724\n",
      "лобэктом 0.00021855619\n",
      "коронарн артер 0.00021382186\n",
      "диффузн пневмосклероз 0.0002072932\n",
      "атеросклеротическ 0.00019098686\n",
      "проявлен 0.00017514666\n",
      "верхн дол 0.0001347643\n",
      "очаг легк 0.00013008965\n",
      "аортокоронаросклероз 0.00011575486\n",
      "неопластическ процесс 0.00010593639\n",
      "диффузн 0.00010209658\n",
      "нижн 9.407784e-05\n",
      "полост 8.986871e-05\n",
      "кт тяжел 7.0875845e-05\n",
      "нижн дол 6.694944e-05\n",
      "врач 4.01817e-05\n",
      "кистозн 3.8438993e-05\n",
      "сравнен 2.5711195e-05\n",
      "кт исследован 2.218129e-05\n"
     ]
    }
   ],
   "source": [
    "feature_importance(clf,vectorizer)"
   ]
  },
  {
   "cell_type": "code",
   "execution_count": 154,
   "metadata": {},
   "outputs": [
    {
     "name": "stdout",
     "output_type": "stream",
     "text": [
      "[0]\tvalidation_0-mlogloss:1.00338\tvalidation_0-merror:0.09454\tvalidation_1-mlogloss:1.02740\tvalidation_1-merror:0.14191\n",
      "[1]\tvalidation_0-mlogloss:0.78631\tvalidation_0-merror:0.08265\tvalidation_1-mlogloss:0.82183\tvalidation_1-merror:0.12475\n",
      "[2]\tvalidation_0-mlogloss:0.63802\tvalidation_0-merror:0.07189\tvalidation_1-mlogloss:0.68761\tvalidation_1-merror:0.11683\n",
      "[3]\tvalidation_0-mlogloss:0.52895\tvalidation_0-merror:0.06595\tvalidation_1-mlogloss:0.58585\tvalidation_1-merror:0.11089\n",
      "[4]\tvalidation_0-mlogloss:0.44640\tvalidation_0-merror:0.06114\tvalidation_1-mlogloss:0.51083\tvalidation_1-merror:0.10231\n",
      "[5]\tvalidation_0-mlogloss:0.38532\tvalidation_0-merror:0.05576\tvalidation_1-mlogloss:0.45560\tvalidation_1-merror:0.10033\n",
      "[6]\tvalidation_0-mlogloss:0.33423\tvalidation_0-merror:0.05180\tvalidation_1-mlogloss:0.41428\tvalidation_1-merror:0.09637\n",
      "[7]\tvalidation_0-mlogloss:0.29627\tvalidation_0-merror:0.04868\tvalidation_1-mlogloss:0.37992\tvalidation_1-merror:0.09439\n",
      "[8]\tvalidation_0-mlogloss:0.26299\tvalidation_0-merror:0.04189\tvalidation_1-mlogloss:0.35402\tvalidation_1-merror:0.09175\n",
      "[9]\tvalidation_0-mlogloss:0.23794\tvalidation_0-merror:0.03934\tvalidation_1-mlogloss:0.33086\tvalidation_1-merror:0.08713\n",
      "[10]\tvalidation_0-mlogloss:0.21610\tvalidation_0-merror:0.03510\tvalidation_1-mlogloss:0.31288\tvalidation_1-merror:0.08449\n",
      "[11]\tvalidation_0-mlogloss:0.19679\tvalidation_0-merror:0.03283\tvalidation_1-mlogloss:0.29720\tvalidation_1-merror:0.08383\n",
      "[12]\tvalidation_0-mlogloss:0.18127\tvalidation_0-merror:0.03029\tvalidation_1-mlogloss:0.28384\tvalidation_1-merror:0.08119\n",
      "[13]\tvalidation_0-mlogloss:0.16715\tvalidation_0-merror:0.02717\tvalidation_1-mlogloss:0.27184\tvalidation_1-merror:0.07591\n",
      "[14]\tvalidation_0-mlogloss:0.15545\tvalidation_0-merror:0.02661\tvalidation_1-mlogloss:0.26337\tvalidation_1-merror:0.07657\n",
      "[15]\tvalidation_0-mlogloss:0.14566\tvalidation_0-merror:0.02519\tvalidation_1-mlogloss:0.25380\tvalidation_1-merror:0.07393\n",
      "[16]\tvalidation_0-mlogloss:0.13755\tvalidation_0-merror:0.02321\tvalidation_1-mlogloss:0.24766\tvalidation_1-merror:0.07129\n",
      "[17]\tvalidation_0-mlogloss:0.12849\tvalidation_0-merror:0.02236\tvalidation_1-mlogloss:0.24034\tvalidation_1-merror:0.07063\n",
      "[18]\tvalidation_0-mlogloss:0.12155\tvalidation_0-merror:0.02151\tvalidation_1-mlogloss:0.23392\tvalidation_1-merror:0.07129\n",
      "[19]\tvalidation_0-mlogloss:0.11581\tvalidation_0-merror:0.02066\tvalidation_1-mlogloss:0.22970\tvalidation_1-merror:0.06931\n",
      "[20]\tvalidation_0-mlogloss:0.10971\tvalidation_0-merror:0.01981\tvalidation_1-mlogloss:0.22359\tvalidation_1-merror:0.06799\n",
      "[21]\tvalidation_0-mlogloss:0.10457\tvalidation_0-merror:0.01783\tvalidation_1-mlogloss:0.22079\tvalidation_1-merror:0.06799\n",
      "[22]\tvalidation_0-mlogloss:0.09983\tvalidation_0-merror:0.01727\tvalidation_1-mlogloss:0.21705\tvalidation_1-merror:0.06601\n",
      "[23]\tvalidation_0-mlogloss:0.09506\tvalidation_0-merror:0.01585\tvalidation_1-mlogloss:0.21718\tvalidation_1-merror:0.06733\n",
      "[24]\tvalidation_0-mlogloss:0.09103\tvalidation_0-merror:0.01500\tvalidation_1-mlogloss:0.21385\tvalidation_1-merror:0.06733\n",
      "[25]\tvalidation_0-mlogloss:0.08688\tvalidation_0-merror:0.01387\tvalidation_1-mlogloss:0.21105\tvalidation_1-merror:0.06733\n",
      "[26]\tvalidation_0-mlogloss:0.08246\tvalidation_0-merror:0.01359\tvalidation_1-mlogloss:0.20735\tvalidation_1-merror:0.06799\n",
      "[27]\tvalidation_0-mlogloss:0.07934\tvalidation_0-merror:0.01302\tvalidation_1-mlogloss:0.20563\tvalidation_1-merror:0.06799\n",
      "[28]\tvalidation_0-mlogloss:0.07647\tvalidation_0-merror:0.01189\tvalidation_1-mlogloss:0.20453\tvalidation_1-merror:0.06667\n",
      "[29]\tvalidation_0-mlogloss:0.07322\tvalidation_0-merror:0.01161\tvalidation_1-mlogloss:0.20295\tvalidation_1-merror:0.06601\n",
      "[30]\tvalidation_0-mlogloss:0.06987\tvalidation_0-merror:0.00934\tvalidation_1-mlogloss:0.20137\tvalidation_1-merror:0.06535\n",
      "[31]\tvalidation_0-mlogloss:0.06780\tvalidation_0-merror:0.00877\tvalidation_1-mlogloss:0.20005\tvalidation_1-merror:0.06469\n",
      "[32]\tvalidation_0-mlogloss:0.06514\tvalidation_0-merror:0.00849\tvalidation_1-mlogloss:0.19887\tvalidation_1-merror:0.06469\n",
      "[33]\tvalidation_0-mlogloss:0.06331\tvalidation_0-merror:0.00708\tvalidation_1-mlogloss:0.19803\tvalidation_1-merror:0.06403\n",
      "[34]\tvalidation_0-mlogloss:0.06137\tvalidation_0-merror:0.00708\tvalidation_1-mlogloss:0.19712\tvalidation_1-merror:0.06403\n",
      "[35]\tvalidation_0-mlogloss:0.05966\tvalidation_0-merror:0.00623\tvalidation_1-mlogloss:0.19598\tvalidation_1-merror:0.06337\n",
      "[36]\tvalidation_0-mlogloss:0.05739\tvalidation_0-merror:0.00623\tvalidation_1-mlogloss:0.19615\tvalidation_1-merror:0.06469\n",
      "[37]\tvalidation_0-mlogloss:0.05563\tvalidation_0-merror:0.00566\tvalidation_1-mlogloss:0.19594\tvalidation_1-merror:0.06469\n",
      "[38]\tvalidation_0-mlogloss:0.05382\tvalidation_0-merror:0.00538\tvalidation_1-mlogloss:0.19587\tvalidation_1-merror:0.06337\n",
      "[39]\tvalidation_0-mlogloss:0.05244\tvalidation_0-merror:0.00538\tvalidation_1-mlogloss:0.19504\tvalidation_1-merror:0.06271\n",
      "[40]\tvalidation_0-mlogloss:0.05107\tvalidation_0-merror:0.00538\tvalidation_1-mlogloss:0.19422\tvalidation_1-merror:0.06337\n",
      "[41]\tvalidation_0-mlogloss:0.04967\tvalidation_0-merror:0.00538\tvalidation_1-mlogloss:0.19300\tvalidation_1-merror:0.06205\n",
      "[42]\tvalidation_0-mlogloss:0.04789\tvalidation_0-merror:0.00538\tvalidation_1-mlogloss:0.19296\tvalidation_1-merror:0.06271\n",
      "[43]\tvalidation_0-mlogloss:0.04679\tvalidation_0-merror:0.00481\tvalidation_1-mlogloss:0.19167\tvalidation_1-merror:0.06205\n",
      "[44]\tvalidation_0-mlogloss:0.04543\tvalidation_0-merror:0.00396\tvalidation_1-mlogloss:0.19131\tvalidation_1-merror:0.06205\n",
      "[45]\tvalidation_0-mlogloss:0.04381\tvalidation_0-merror:0.00396\tvalidation_1-mlogloss:0.19130\tvalidation_1-merror:0.06271\n",
      "[46]\tvalidation_0-mlogloss:0.04266\tvalidation_0-merror:0.00311\tvalidation_1-mlogloss:0.19113\tvalidation_1-merror:0.06205\n",
      "[47]\tvalidation_0-mlogloss:0.04099\tvalidation_0-merror:0.00226\tvalidation_1-mlogloss:0.19078\tvalidation_1-merror:0.06139\n",
      "[48]\tvalidation_0-mlogloss:0.04011\tvalidation_0-merror:0.00226\tvalidation_1-mlogloss:0.18993\tvalidation_1-merror:0.06139\n",
      "[49]\tvalidation_0-mlogloss:0.03855\tvalidation_0-merror:0.00226\tvalidation_1-mlogloss:0.18986\tvalidation_1-merror:0.06205\n",
      "[50]\tvalidation_0-mlogloss:0.03775\tvalidation_0-merror:0.00226\tvalidation_1-mlogloss:0.18919\tvalidation_1-merror:0.06139\n",
      "[51]\tvalidation_0-mlogloss:0.03687\tvalidation_0-merror:0.00226\tvalidation_1-mlogloss:0.18922\tvalidation_1-merror:0.06139\n",
      "[52]\tvalidation_0-mlogloss:0.03567\tvalidation_0-merror:0.00028\tvalidation_1-mlogloss:0.18963\tvalidation_1-merror:0.06139\n",
      "[53]\tvalidation_0-mlogloss:0.03471\tvalidation_0-merror:0.00057\tvalidation_1-mlogloss:0.19070\tvalidation_1-merror:0.06205\n",
      "[54]\tvalidation_0-mlogloss:0.03404\tvalidation_0-merror:0.00057\tvalidation_1-mlogloss:0.18997\tvalidation_1-merror:0.06139\n",
      "[55]\tvalidation_0-mlogloss:0.03300\tvalidation_0-merror:0.00057\tvalidation_1-mlogloss:0.18998\tvalidation_1-merror:0.06139\n",
      "[56]\tvalidation_0-mlogloss:0.03235\tvalidation_0-merror:0.00057\tvalidation_1-mlogloss:0.18990\tvalidation_1-merror:0.06139\n",
      "[57]\tvalidation_0-mlogloss:0.03158\tvalidation_0-merror:0.00028\tvalidation_1-mlogloss:0.18954\tvalidation_1-merror:0.06007\n",
      "[58]\tvalidation_0-mlogloss:0.03094\tvalidation_0-merror:0.00000\tvalidation_1-mlogloss:0.18920\tvalidation_1-merror:0.05941\n",
      "[59]\tvalidation_0-mlogloss:0.03023\tvalidation_0-merror:0.00000\tvalidation_1-mlogloss:0.18932\tvalidation_1-merror:0.05941\n",
      "[60]\tvalidation_0-mlogloss:0.02941\tvalidation_0-merror:0.00000\tvalidation_1-mlogloss:0.18897\tvalidation_1-merror:0.05941\n",
      "[61]\tvalidation_0-mlogloss:0.02871\tvalidation_0-merror:0.00000\tvalidation_1-mlogloss:0.18950\tvalidation_1-merror:0.06007\n",
      "[62]\tvalidation_0-mlogloss:0.02793\tvalidation_0-merror:0.00000\tvalidation_1-mlogloss:0.18975\tvalidation_1-merror:0.05875\n",
      "[63]\tvalidation_0-mlogloss:0.02734\tvalidation_0-merror:0.00000\tvalidation_1-mlogloss:0.18960\tvalidation_1-merror:0.05875\n",
      "[64]\tvalidation_0-mlogloss:0.02665\tvalidation_0-merror:0.00000\tvalidation_1-mlogloss:0.18963\tvalidation_1-merror:0.05875\n",
      "[65]\tvalidation_0-mlogloss:0.02609\tvalidation_0-merror:0.00000\tvalidation_1-mlogloss:0.18998\tvalidation_1-merror:0.05941\n",
      "[66]\tvalidation_0-mlogloss:0.02542\tvalidation_0-merror:0.00000\tvalidation_1-mlogloss:0.19117\tvalidation_1-merror:0.05875\n",
      "[67]\tvalidation_0-mlogloss:0.02486\tvalidation_0-merror:0.00000\tvalidation_1-mlogloss:0.19108\tvalidation_1-merror:0.05941\n",
      "[68]\tvalidation_0-mlogloss:0.02446\tvalidation_0-merror:0.00000\tvalidation_1-mlogloss:0.19119\tvalidation_1-merror:0.05941\n",
      "[69]\tvalidation_0-mlogloss:0.02367\tvalidation_0-merror:0.00000\tvalidation_1-mlogloss:0.19220\tvalidation_1-merror:0.05875\n",
      "[70]\tvalidation_0-mlogloss:0.02325\tvalidation_0-merror:0.00000\tvalidation_1-mlogloss:0.19277\tvalidation_1-merror:0.05941\n",
      "[71]\tvalidation_0-mlogloss:0.02285\tvalidation_0-merror:0.00000\tvalidation_1-mlogloss:0.19271\tvalidation_1-merror:0.05875\n",
      "[72]\tvalidation_0-mlogloss:0.02223\tvalidation_0-merror:0.00000\tvalidation_1-mlogloss:0.19312\tvalidation_1-merror:0.06073\n",
      "[73]\tvalidation_0-mlogloss:0.02183\tvalidation_0-merror:0.00000\tvalidation_1-mlogloss:0.19324\tvalidation_1-merror:0.06007\n",
      "[74]\tvalidation_0-mlogloss:0.02121\tvalidation_0-merror:0.00000\tvalidation_1-mlogloss:0.19402\tvalidation_1-merror:0.06073\n",
      "[75]\tvalidation_0-mlogloss:0.02084\tvalidation_0-merror:0.00000\tvalidation_1-mlogloss:0.19414\tvalidation_1-merror:0.06073\n",
      "[76]\tvalidation_0-mlogloss:0.02030\tvalidation_0-merror:0.00000\tvalidation_1-mlogloss:0.19503\tvalidation_1-merror:0.05941\n",
      "[77]\tvalidation_0-mlogloss:0.01969\tvalidation_0-merror:0.00000\tvalidation_1-mlogloss:0.19526\tvalidation_1-merror:0.05941\n",
      "[78]\tvalidation_0-mlogloss:0.01929\tvalidation_0-merror:0.00000\tvalidation_1-mlogloss:0.19569\tvalidation_1-merror:0.06139\n",
      "[79]\tvalidation_0-mlogloss:0.01901\tvalidation_0-merror:0.00000\tvalidation_1-mlogloss:0.19557\tvalidation_1-merror:0.06073\n",
      "[80]\tvalidation_0-mlogloss:0.01861\tvalidation_0-merror:0.00000\tvalidation_1-mlogloss:0.19574\tvalidation_1-merror:0.05941\n",
      "[81]\tvalidation_0-mlogloss:0.01825\tvalidation_0-merror:0.00000\tvalidation_1-mlogloss:0.19664\tvalidation_1-merror:0.06073\n",
      "[82]\tvalidation_0-mlogloss:0.01795\tvalidation_0-merror:0.00000\tvalidation_1-mlogloss:0.19712\tvalidation_1-merror:0.05941\n",
      "[83]\tvalidation_0-mlogloss:0.01749\tvalidation_0-merror:0.00000\tvalidation_1-mlogloss:0.19779\tvalidation_1-merror:0.06007\n",
      "[84]\tvalidation_0-mlogloss:0.01714\tvalidation_0-merror:0.00000\tvalidation_1-mlogloss:0.19844\tvalidation_1-merror:0.06073\n",
      "[85]\tvalidation_0-mlogloss:0.01682\tvalidation_0-merror:0.00000\tvalidation_1-mlogloss:0.19873\tvalidation_1-merror:0.05941\n",
      "[86]\tvalidation_0-mlogloss:0.01640\tvalidation_0-merror:0.00000\tvalidation_1-mlogloss:0.19910\tvalidation_1-merror:0.06007\n",
      "[87]\tvalidation_0-mlogloss:0.01615\tvalidation_0-merror:0.00000\tvalidation_1-mlogloss:0.19953\tvalidation_1-merror:0.06007\n",
      "[88]\tvalidation_0-mlogloss:0.01569\tvalidation_0-merror:0.00000\tvalidation_1-mlogloss:0.20002\tvalidation_1-merror:0.06073\n",
      "[89]\tvalidation_0-mlogloss:0.01539\tvalidation_0-merror:0.00000\tvalidation_1-mlogloss:0.20025\tvalidation_1-merror:0.06007\n",
      "[90]\tvalidation_0-mlogloss:0.01506\tvalidation_0-merror:0.00000\tvalidation_1-mlogloss:0.20061\tvalidation_1-merror:0.05875\n",
      "[91]\tvalidation_0-mlogloss:0.01469\tvalidation_0-merror:0.00000\tvalidation_1-mlogloss:0.20062\tvalidation_1-merror:0.05875\n",
      "[92]\tvalidation_0-mlogloss:0.01445\tvalidation_0-merror:0.00000\tvalidation_1-mlogloss:0.20045\tvalidation_1-merror:0.05809\n",
      "[93]\tvalidation_0-mlogloss:0.01416\tvalidation_0-merror:0.00000\tvalidation_1-mlogloss:0.20173\tvalidation_1-merror:0.05875\n",
      "[94]\tvalidation_0-mlogloss:0.01392\tvalidation_0-merror:0.00000\tvalidation_1-mlogloss:0.20200\tvalidation_1-merror:0.05875\n",
      "[95]\tvalidation_0-mlogloss:0.01372\tvalidation_0-merror:0.00000\tvalidation_1-mlogloss:0.20198\tvalidation_1-merror:0.05875\n",
      "[96]\tvalidation_0-mlogloss:0.01335\tvalidation_0-merror:0.00000\tvalidation_1-mlogloss:0.20261\tvalidation_1-merror:0.05941\n",
      "[97]\tvalidation_0-mlogloss:0.01314\tvalidation_0-merror:0.00000\tvalidation_1-mlogloss:0.20303\tvalidation_1-merror:0.05875\n",
      "[98]\tvalidation_0-mlogloss:0.01291\tvalidation_0-merror:0.00000\tvalidation_1-mlogloss:0.20289\tvalidation_1-merror:0.05875\n",
      "[99]\tvalidation_0-mlogloss:0.01269\tvalidation_0-merror:0.00000\tvalidation_1-mlogloss:0.20368\tvalidation_1-merror:0.05875\n",
      "Accuracy: 93.41%\n"
     ]
    },
    {
     "data": {
      "image/png": "[encoded data removed]",
      "text/plain": [
       "<Figure size 432x288 with 1 Axes>"
      ]
     },
     "metadata": {
      "needs_background": "light"
     },
     "output_type": "display_data"
    },
    {
     "data": {
      "image/png": "[encoded data removed]",
      "text/plain": [
       "<Figure size 432x288 with 1 Axes>"
      ]
     },
     "metadata": {
      "needs_background": "light"
     },
     "output_type": "display_data"
    }
   ],
   "source": [
    "model = XGBClassifier(objective='multi:softprob')\n",
    "eval_set = [(X_train, y_train), (X_test, y_test)]\n",
    "model.fit(X_train, y_train, eval_metric=[\"mlogloss\", \"merror\"], eval_set=eval_set, verbose=True)\n",
    "\n",
    "y_pred = model.predict(X_test)\n",
    "predictions = [round(value) for value in y_pred]\n",
    "\n",
    "accuracy = balanced_accuracy_score(y_test, predictions)\n",
    "print(\"Accuracy: %.2f%%\" % (accuracy * 100.0))\n",
    "\n",
    "results = model.evals_result()\n",
    "epochs = len(results['validation_0']['mlogloss'])\n",
    "x_axis = range(0, epochs)\n",
    "\n",
    "fig, ax = plt.subplots()\n",
    "ax.plot(x_axis, results['validation_0']['mlogloss'], label='Train')\n",
    "ax.plot(x_axis, results['validation_1']['mlogloss'], label='Test')\n",
    "ax.legend()\n",
    "plt.ylabel('mlogloss')\n",
    "plt.title('XGBoost mlogloss')\n",
    "plt.show()\n",
    "\n",
    "fig, ax = plt.subplots()\n",
    "ax.plot(x_axis, results['validation_0']['merror'], label='Train')\n",
    "ax.plot(x_axis, results['validation_1']['merror'], label='Test')\n",
    "ax.legend()\n",
    "plt.ylabel('Classification Error')\n",
    "plt.title('XGBoost Classification Error')\n",
    "plt.show()"
   ]
  },
  {
   "cell_type": "code",
   "execution_count": 236,
   "metadata": {},
   "outputs": [
    {
     "data": {
      "image/png": "[encoded data removed]",
      "text/plain": [
       "<Figure size 432x288 with 2 Axes>"
      ]
     },
     "metadata": {
      "needs_background": "light"
     },
     "output_type": "display_data"
    },
    {
     "name": "stdout",
     "output_type": "stream",
     "text": [
      "precision [0.87134503 0.95666667 0.95585739 0.92527473]\n",
      "recall [0.9030303  0.95986622 0.9640411  0.90149893]\n",
      "fscore [0.88690476 0.95826377 0.9599318  0.9132321 ]\n",
      "balanced accuracy 0.9321091372481721\n"
     ]
    }
   ],
   "source": [
    "plot_confusion_matrix(clf, X_test, y_test)  \n",
    "prf=precision_recall_fscore_support(y_test, y_pred)\n",
    "b_accuracy=balanced_accuracy_score(y_test, y_pred)\n",
    "plt.show() \n",
    "print('precision',prf[0])\n",
    "print('recall',prf[1])\n",
    "print('fscore',prf[2])\n",
    "print('balanced accuracy', b_accuracy)"
   ]
  },
  {
   "cell_type": "code",
   "execution_count": null,
   "metadata": {},
   "outputs": [],
   "source": []
  },
  {
   "cell_type": "code",
   "execution_count": 239,
   "metadata": {},
   "outputs": [],
   "source": [
    "clf_reg = LogisticRegression(random_state=12).fit(X_train, y_train)\n",
    "y_pred = clf_reg.predict(X_test)"
   ]
  },
  {
   "cell_type": "code",
   "execution_count": 240,
   "metadata": {},
   "outputs": [
    {
     "data": {
      "image/png": "[encoded data removed]",
      "text/plain": [
       "<Figure size 432x288 with 2 Axes>"
      ]
     },
     "metadata": {
      "needs_background": "light"
     },
     "output_type": "display_data"
    },
    {
     "name": "stdout",
     "output_type": "stream",
     "text": [
      "precision [0.90728477 0.93666667 0.87402799 0.89548694]\n",
      "recall [0.83030303 0.93979933 0.96232877 0.80728051]\n",
      "fscore [0.86708861 0.93823038 0.91605542 0.8490991 ]\n",
      "balanced accuracy 0.8849279106121566\n"
     ]
    }
   ],
   "source": [
    "plot_confusion_matrix(clf_reg, X_test, y_test)  \n",
    "prf=precision_recall_fscore_support(y_test, y_pred)\n",
    "b_accuracy=balanced_accuracy_score(y_test, y_pred)\n",
    "plt.show() \n",
    "print('precision',prf[0])\n",
    "print('recall',prf[1])\n",
    "print('fscore',prf[2])\n",
    "print('balanced accuracy', b_accuracy)"
   ]
  },
  {
   "cell_type": "code",
   "execution_count": null,
   "metadata": {},
   "outputs": [],
   "source": []
  },
  {
   "cell_type": "markdown",
   "metadata": {},
   "source": [
    " "
   ]
  },
  {
   "cell_type": "markdown",
   "metadata": {},
   "source": [
    " "
   ]
  },
  {
   "cell_type": "markdown",
   "metadata": {},
   "source": [
    " "
   ]
  },
  {
   "cell_type": "markdown",
   "metadata": {},
   "source": [
    "## РГ"
   ]
  },
  {
   "cell_type": "code",
   "execution_count": 184,
   "metadata": {},
   "outputs": [],
   "source": [
    "RG=pd.read_excel('C:/Users/l.soina/Downloads/RGall.xlsx')"
   ]
  },
  {
   "cell_type": "code",
   "execution_count": 185,
   "metadata": {},
   "outputs": [
    {
     "data": {
      "text/html": [
       "<div>\n",
       "<style scoped>\n",
       "    .dataframe tbody tr th:only-of-type {\n",
       "        vertical-align: middle;\n",
       "    }\n",
       "\n",
       "    .dataframe tbody tr th {\n",
       "        vertical-align: top;\n",
       "    }\n",
       "\n",
       "    .dataframe thead th {\n",
       "        text-align: right;\n",
       "    }\n",
       "</style>\n",
       "<table border=\"1\" class=\"dataframe\">\n",
       "  <thead>\n",
       "    <tr style=\"text-align: right;\">\n",
       "      <th></th>\n",
       "      <th>Unnamed: 0</th>\n",
       "      <th>Unnamed: 0.1</th>\n",
       "      <th>Unnamed: 0.1.1</th>\n",
       "      <th>Unnamed: 0.1.1.1</th>\n",
       "      <th>Наименование ИИ</th>\n",
       "      <th>Уникальный идентификатор исследования</th>\n",
       "      <th>Наименование процедуры</th>\n",
       "      <th>МО</th>\n",
       "      <th>Ae-title</th>\n",
       "      <th>Модальность</th>\n",
       "      <th>...</th>\n",
       "      <th>Время окончания обработки моделью ИИ</th>\n",
       "      <th>Автор заключения</th>\n",
       "      <th>Описание исследования</th>\n",
       "      <th>Заключение по исследованию</th>\n",
       "      <th>0 - норма, 1 - патология в рамках базовых требований, 2 -патология вне базовых требований</th>\n",
       "      <th>Патология по базовым требованиям: 1 - выпот, 2 - пневмоторакс, 3 - ателектаз, 4 - очаг затемнения, 5 - инфильтрация/консолидация, 6 - диссеминация, 7 - полость с распадом/уровнем жидкости, 8 - кальцинат, 9 - перелом ребра, грудины, ГОП</th>\n",
       "      <th>Патология вне требований</th>\n",
       "      <th>норма/иное</th>\n",
       "      <th>норма, вероятность</th>\n",
       "      <th>лейбл</th>\n",
       "    </tr>\n",
       "  </thead>\n",
       "  <tbody>\n",
       "    <tr>\n",
       "      <th>0</th>\n",
       "      <td>0</td>\n",
       "      <td>19</td>\n",
       "      <td>27.0</td>\n",
       "      <td>27.0</td>\n",
       "      <td>Care Mentor AI</td>\n",
       "      <td>1.2.40.0.13.1.19721924444767468743274942416466...</td>\n",
       "      <td>Rg-графия органов грудной клетки</td>\n",
       "      <td>ГБУЗ \"ГП № 218 ДЗМ\", Филиал № 1</td>\n",
       "      <td>TERRA_GP218F1</td>\n",
       "      <td>РГ</td>\n",
       "      <td>...</td>\n",
       "      <td>2020-07-28 10:21:02</td>\n",
       "      <td>Соломатина Елена Сергеевна</td>\n",
       "      <td>\\n\\nна рентгенограммах органов грудной клетки ...</td>\n",
       "      <td>\\n\\nДиф. пневмофиброз; четких рентгенологическ...</td>\n",
       "      <td>1.0</td>\n",
       "      <td>6</td>\n",
       "      <td>NaN</td>\n",
       "      <td>NaN</td>\n",
       "      <td>NaN</td>\n",
       "      <td>NaN</td>\n",
       "    </tr>\n",
       "    <tr>\n",
       "      <th>1</th>\n",
       "      <td>1</td>\n",
       "      <td>20</td>\n",
       "      <td>28.0</td>\n",
       "      <td>28.0</td>\n",
       "      <td>Care Mentor AI</td>\n",
       "      <td>1.2.392.200036.9116.32.4.2011.9728095434.1573.710</td>\n",
       "      <td>Rg-графия органов грудной клетки</td>\n",
       "      <td>ГБУЗ \"КДЦ № 6 ДЗМ\", Филиал № 2</td>\n",
       "      <td>PDR02A_KDC6F2</td>\n",
       "      <td>РГ</td>\n",
       "      <td>...</td>\n",
       "      <td>2020-07-28 09:59:13</td>\n",
       "      <td>Сорокина Ольга Вадимовна</td>\n",
       "      <td>\\n\\nКлиническая информация:\\nВыполнена рентген...</td>\n",
       "      <td>\\n\\n Рентгенологических признаков воспалительн...</td>\n",
       "      <td>1.0</td>\n",
       "      <td>5</td>\n",
       "      <td>NaN</td>\n",
       "      <td>NaN</td>\n",
       "      <td>NaN</td>\n",
       "      <td>NaN</td>\n",
       "    </tr>\n",
       "  </tbody>\n",
       "</table>\n",
       "<p>2 rows × 24 columns</p>\n",
       "</div>"
      ],
      "text/plain": [
       "   Unnamed: 0  Unnamed: 0.1  Unnamed: 0.1.1  Unnamed: 0.1.1.1 Наименование ИИ  \\\n",
       "0           0            19            27.0              27.0  Care Mentor AI   \n",
       "1           1            20            28.0              28.0  Care Mentor AI   \n",
       "\n",
       "               Уникальный идентификатор исследования  \\\n",
       "0  1.2.40.0.13.1.19721924444767468743274942416466...   \n",
       "1  1.2.392.200036.9116.32.4.2011.9728095434.1573.710   \n",
       "\n",
       "             Наименование процедуры                               МО  \\\n",
       "0  Rg-графия органов грудной клетки  ГБУЗ \"ГП № 218 ДЗМ\", Филиал № 1   \n",
       "1  Rg-графия органов грудной клетки   ГБУЗ \"КДЦ № 6 ДЗМ\", Филиал № 2   \n",
       "\n",
       "        Ae-title Модальность  ... Время окончания обработки моделью ИИ  \\\n",
       "0  TERRA_GP218F1          РГ  ...                  2020-07-28 10:21:02   \n",
       "1  PDR02A_KDC6F2          РГ  ...                  2020-07-28 09:59:13   \n",
       "\n",
       "             Автор заключения  \\\n",
       "0  Соломатина Елена Сергеевна   \n",
       "1    Сорокина Ольга Вадимовна   \n",
       "\n",
       "                               Описание исследования  \\\n",
       "0  \\n\\nна рентгенограммах органов грудной клетки ...   \n",
       "1  \\n\\nКлиническая информация:\\nВыполнена рентген...   \n",
       "\n",
       "                          Заключение по исследованию  \\\n",
       "0  \\n\\nДиф. пневмофиброз; четких рентгенологическ...   \n",
       "1  \\n\\n Рентгенологических признаков воспалительн...   \n",
       "\n",
       "  0 - норма, 1 - патология в рамках базовых требований, 2 -патология вне базовых требований  \\\n",
       "0                                                1.0                                          \n",
       "1                                                1.0                                          \n",
       "\n",
       "  Патология по базовым требованиям: 1 - выпот, 2 - пневмоторакс, 3 - ателектаз, 4 - очаг затемнения, 5 - инфильтрация/консолидация, 6 - диссеминация, 7 - полость с распадом/уровнем жидкости, 8 - кальцинат, 9 - перелом ребра, грудины, ГОП  \\\n",
       "0                                                  6                                                                                                                                                                                            \n",
       "1                                                  5                                                                                                                                                                                            \n",
       "\n",
       "  Патология вне требований норма/иное  норма, вероятность лейбл  \n",
       "0                      NaN        NaN                 NaN   NaN  \n",
       "1                      NaN        NaN                 NaN   NaN  \n",
       "\n",
       "[2 rows x 24 columns]"
      ]
     },
     "execution_count": 185,
     "metadata": {},
     "output_type": "execute_result"
    }
   ],
   "source": [
    "RG.head(2)"
   ]
  },
  {
   "cell_type": "code",
   "execution_count": 186,
   "metadata": {},
   "outputs": [],
   "source": [
    "RG=RG[['Заключение по исследованию','0 - норма, 1 - патология в рамках базовых требований, 2 -патология вне базовых требований']]\\\n",
    ".dropna(subset=['0 - норма, 1 - патология в рамках базовых требований, 2 -патология вне базовых требований'])"
   ]
  },
  {
   "cell_type": "code",
   "execution_count": 187,
   "metadata": {},
   "outputs": [],
   "source": [
    "RG.columns=['Заключение','Патология']"
   ]
  },
  {
   "cell_type": "code",
   "execution_count": 188,
   "metadata": {},
   "outputs": [
    {
     "data": {
      "text/html": [
       "<div>\n",
       "<style scoped>\n",
       "    .dataframe tbody tr th:only-of-type {\n",
       "        vertical-align: middle;\n",
       "    }\n",
       "\n",
       "    .dataframe tbody tr th {\n",
       "        vertical-align: top;\n",
       "    }\n",
       "\n",
       "    .dataframe thead th {\n",
       "        text-align: right;\n",
       "    }\n",
       "</style>\n",
       "<table border=\"1\" class=\"dataframe\">\n",
       "  <thead>\n",
       "    <tr style=\"text-align: right;\">\n",
       "      <th></th>\n",
       "      <th>Заключение</th>\n",
       "      <th>Патология</th>\n",
       "    </tr>\n",
       "  </thead>\n",
       "  <tbody>\n",
       "    <tr>\n",
       "      <th>0</th>\n",
       "      <td>\\n\\nДиф. пневмофиброз; четких рентгенологическ...</td>\n",
       "      <td>1.0</td>\n",
       "    </tr>\n",
       "    <tr>\n",
       "      <th>1</th>\n",
       "      <td>\\n\\n Рентгенологических признаков воспалительн...</td>\n",
       "      <td>1.0</td>\n",
       "    </tr>\n",
       "    <tr>\n",
       "      <th>2</th>\n",
       "      <td>\\n\\n Рентгенологических признаков патологическ...</td>\n",
       "      <td>0.0</td>\n",
       "    </tr>\n",
       "  </tbody>\n",
       "</table>\n",
       "</div>"
      ],
      "text/plain": [
       "                                          Заключение  Патология\n",
       "0  \\n\\nДиф. пневмофиброз; четких рентгенологическ...        1.0\n",
       "1  \\n\\n Рентгенологических признаков воспалительн...        1.0\n",
       "2  \\n\\n Рентгенологических признаков патологическ...        0.0"
      ]
     },
     "execution_count": 188,
     "metadata": {},
     "output_type": "execute_result"
    }
   ],
   "source": [
    "RG.head(3)"
   ]
  },
  {
   "cell_type": "code",
   "execution_count": 189,
   "metadata": {},
   "outputs": [
    {
     "name": "stderr",
     "output_type": "stream",
     "text": [
      "100%|█████████████████████████████████████████████████████████████████████████████| 945/945 [00:00<00:00, 22428.04it/s]\n",
      "100%|██████████████████████████████████████████████████████████████████████████████| 565/565 [00:00<00:00, 1387.77it/s]\n"
     ]
    }
   ],
   "source": [
    "RG_prep=text_processing(RG,'Заключение')"
   ]
  },
  {
   "cell_type": "code",
   "execution_count": 190,
   "metadata": {},
   "outputs": [
    {
     "data": {
      "text/html": [
       "<div>\n",
       "<style scoped>\n",
       "    .dataframe tbody tr th:only-of-type {\n",
       "        vertical-align: middle;\n",
       "    }\n",
       "\n",
       "    .dataframe tbody tr th {\n",
       "        vertical-align: top;\n",
       "    }\n",
       "\n",
       "    .dataframe thead th {\n",
       "        text-align: right;\n",
       "    }\n",
       "</style>\n",
       "<table border=\"1\" class=\"dataframe\">\n",
       "  <thead>\n",
       "    <tr style=\"text-align: right;\">\n",
       "      <th></th>\n",
       "      <th>index</th>\n",
       "      <th>Заключение</th>\n",
       "      <th>Патология</th>\n",
       "      <th>text_prep</th>\n",
       "      <th>text_stem</th>\n",
       "    </tr>\n",
       "  </thead>\n",
       "  <tbody>\n",
       "    <tr>\n",
       "      <th>0</th>\n",
       "      <td>0</td>\n",
       "      <td>\\n\\nДиф. пневмофиброз; четких рентгенологическ...</td>\n",
       "      <td>1.0</td>\n",
       "      <td>диф пневмофиброз четких рентгенологических да...</td>\n",
       "      <td>диф пневмофиброз четк рентгенологическ дан вто...</td>\n",
       "    </tr>\n",
       "    <tr>\n",
       "      <th>1</th>\n",
       "      <td>1</td>\n",
       "      <td>\\n\\n Рентгенологических признаков воспалительн...</td>\n",
       "      <td>1.0</td>\n",
       "      <td>рентгенологических признаков воспалительных и...</td>\n",
       "      <td>рентгенологическ признак воспалительн изменен ...</td>\n",
       "    </tr>\n",
       "    <tr>\n",
       "      <th>2</th>\n",
       "      <td>2</td>\n",
       "      <td>\\n\\n Рентгенологических признаков патологическ...</td>\n",
       "      <td>0.0</td>\n",
       "      <td>рентгенологических признаков патологических и...</td>\n",
       "      <td>рентгенологическ признак патологическ изменен ...</td>\n",
       "    </tr>\n",
       "  </tbody>\n",
       "</table>\n",
       "</div>"
      ],
      "text/plain": [
       "   index                                         Заключение  Патология  \\\n",
       "0      0  \\n\\nДиф. пневмофиброз; четких рентгенологическ...        1.0   \n",
       "1      1  \\n\\n Рентгенологических признаков воспалительн...        1.0   \n",
       "2      2  \\n\\n Рентгенологических признаков патологическ...        0.0   \n",
       "\n",
       "                                           text_prep  \\\n",
       "0   диф пневмофиброз четких рентгенологических да...   \n",
       "1   рентгенологических признаков воспалительных и...   \n",
       "2   рентгенологических признаков патологических и...   \n",
       "\n",
       "                                           text_stem  \n",
       "0  диф пневмофиброз четк рентгенологическ дан вто...  \n",
       "1  рентгенологическ признак воспалительн изменен ...  \n",
       "2  рентгенологическ признак патологическ изменен ...  "
      ]
     },
     "execution_count": 190,
     "metadata": {},
     "output_type": "execute_result"
    }
   ],
   "source": [
    "RG_prep.head(3)"
   ]
  },
  {
   "cell_type": "code",
   "execution_count": 207,
   "metadata": {},
   "outputs": [
    {
     "name": "stdout",
     "output_type": "stream",
     "text": [
      "[14:30:11] WARNING: C:/Users/Administrator/workspace/xgboost-win64_release_1.3.0/src/learner.cc:1061: Starting in XGBoost 1.3.0, the default evaluation metric used with the objective 'multi:softprob' was changed from 'merror' to 'mlogloss'. Explicitly set eval_metric if you'd like to restore the old behavior.\n"
     ]
    }
   ],
   "source": [
    "clf,X_test, y_test,y_pred,X_train, y_train,vectorizer=classification(RG_prep,'text_stem','Патология',20)"
   ]
  },
  {
   "cell_type": "code",
   "execution_count": 208,
   "metadata": {
    "collapsed": true
   },
   "outputs": [
    {
     "name": "stdout",
     "output_type": "stream",
     "text": [
      "возрастн 0.045750245\n",
      "инфильтративн тен 0.031731505\n",
      "фиброз 0.030618869\n",
      "не 0.030284002\n",
      "мзв 0.028243639\n",
      "эмфизем 0.02729866\n",
      "ребр справ 0.025865847\n",
      "локальн фиброз 0.025657255\n",
      "аорт 0.023430245\n",
      "туберкулез 0.021584935\n",
      "дуг 0.021133617\n",
      "средостен 0.01980079\n",
      "кт 0.01942434\n",
      "пневмон 0.015863711\n",
      "без 0.015677795\n",
      "пневмофиброз 0.015671447\n",
      "гидроторакс 0.015426985\n",
      "прав легк 0.014928944\n",
      "инфильтративн 0.014418585\n",
      "без свеж 0.0144156385\n",
      "инфильтративн изменен 0.014336357\n",
      "справ 0.014287243\n",
      "пневмосклероз 0.013164157\n",
      "картин 0.012092858\n",
      "изменен 0.012090922\n",
      "кардиомегал 0.011844594\n",
      "легочн пол 0.011740575\n",
      "легочн 0.011499083\n",
      "свеж очагов 0.011421888\n",
      "рекомендова 0.011376539\n",
      "слев 0.010839051\n",
      "поствоспалительн 0.010825282\n",
      "отдел позвоночник 0.010603442\n",
      "клиническ 0.010427114\n",
      "изменен легк 0.009632065\n",
      "грудн 0.009589326\n",
      "признак диф 0.009443748\n",
      "динамик 0.009340252\n",
      "рг 0.009123736\n",
      "видим 0.009058698\n",
      "без существен 0.008889641\n",
      "момент 0.008806018\n",
      "клетк 0.008766471\n",
      "тен 0.008363588\n",
      "не определя 0.007952197\n",
      "фиброзн 0.007943103\n",
      "орган 0.007790256\n",
      "метатуберкулезн 0.007781407\n",
      "локальн 0.007645524\n",
      "диф 0.0073384615\n",
      "лев легк 0.007302703\n",
      "орга 0.0072487607\n",
      "доз 0.0066981707\n",
      "изменен орган 0.006665511\n",
      "клетк не 0.0066647185\n",
      "грудн отдел 0.006658581\n",
      "дегенеративн 0.0065682284\n",
      "перенесен 0.006545901\n",
      "диффузн пневмосклероз 0.0064655975\n",
      "явлен 0.0063844924\n",
      "перел 0.006296327\n",
      "огк 0.0061444924\n",
      "патологическ 0.005981776\n",
      "прав 0.0059639937\n",
      "рентгенологическ 0.0056011286\n",
      "признак 0.005569053\n",
      "определя 0.0054442333\n",
      "рентгенологическ признак 0.0054202904\n",
      "изменен рекомендова 0.005417991\n",
      "очагов 0.0053974036\n",
      "ээд 0.0052963635\n",
      "легк не 0.005238659\n",
      "выявл 0.00509147\n",
      "легк без 0.0050592585\n",
      "диффузн 0.0048934626\n",
      "изменен не 0.004694835\n",
      "лев 0.004584177\n",
      "признак патологическ 0.0044657635\n",
      "дол 0.004445995\n",
      "эмфизем легк 0.0043116896\n",
      "диф пневмосклероз 0.004225816\n",
      "передн 0.0041969647\n",
      "без видим 0.0039388686\n",
      "очаговоподобн 0.003831117\n",
      "выявл возрастн 0.0036920197\n",
      "свеж 0.0036691495\n",
      "без очагов 0.003558749\n",
      "легк 0.0035373054\n",
      "заключен 0.0034337507\n",
      "плевральн 0.0034288764\n",
      "грудн клетк 0.0031911903\n",
      "рентг 0.0031321824\n",
      "явля 0.0030007283\n",
      "правосторон 0.0029801712\n",
      "th 0.0028893305\n",
      "признак диффузн 0.0027092595\n",
      "верхн 0.002527265\n",
      "соответствова 0.0021410875\n",
      "кт огк 0.0018940215\n",
      "дан 0.0016734041\n",
      "пневмосклероз эмфизем 0.0014615656\n",
      "видим очагов 0.00087438826\n",
      "признак очагов 0.00019263796\n",
      "нижн 5.8454065e-05\n"
     ]
    }
   ],
   "source": [
    "feature_importance(clf,vectorizer)"
   ]
  },
  {
   "cell_type": "code",
   "execution_count": 209,
   "metadata": {},
   "outputs": [
    {
     "data": {
      "image/png": "[encoded data removed]",
      "text/plain": [
       "<Figure size 432x288 with 2 Axes>"
      ]
     },
     "metadata": {
      "needs_background": "light"
     },
     "output_type": "display_data"
    },
    {
     "name": "stdout",
     "output_type": "stream",
     "text": [
      "precision [0.81333333 0.66666667 0.55      ]\n",
      "recall [0.82432432 0.72222222 0.45833333]\n",
      "fscore [0.81879195 0.69333333 0.5       ]\n",
      "balanced accuracy 0.6682932932932933\n"
     ]
    }
   ],
   "source": [
    "plot_confusion_matrix(clf, X_test, y_test)  \n",
    "prf=precision_recall_fscore_support(y_test, y_pred)\n",
    "b_accuracy=balanced_accuracy_score(y_test, y_pred)\n",
    "plt.show() \n",
    "print('precision',prf[0])\n",
    "print('recall',prf[1])\n",
    "print('fscore',prf[2])\n",
    "print('balanced accuracy', b_accuracy)"
   ]
  },
  {
   "cell_type": "code",
   "execution_count": 199,
   "metadata": {},
   "outputs": [
    {
     "name": "stdout",
     "output_type": "stream",
     "text": [
      "[0]\tvalidation_0-mlogloss:0.86601\tvalidation_0-merror:0.13548\tvalidation_1-mlogloss:0.94695\tvalidation_1-merror:0.30597\n",
      "[1]\tvalidation_0-mlogloss:0.72113\tvalidation_0-merror:0.11936\tvalidation_1-mlogloss:0.87826\tvalidation_1-merror:0.35821\n",
      "[2]\tvalidation_0-mlogloss:0.62364\tvalidation_0-merror:0.10323\tvalidation_1-mlogloss:0.82796\tvalidation_1-merror:0.34328\n",
      "[3]\tvalidation_0-mlogloss:0.53778\tvalidation_0-merror:0.08064\tvalidation_1-mlogloss:0.78831\tvalidation_1-merror:0.30597\n",
      "[4]\tvalidation_0-mlogloss:0.48045\tvalidation_0-merror:0.07097\tvalidation_1-mlogloss:0.74767\tvalidation_1-merror:0.27612\n",
      "[5]\tvalidation_0-mlogloss:0.41624\tvalidation_0-merror:0.04839\tvalidation_1-mlogloss:0.74006\tvalidation_1-merror:0.27612\n",
      "[6]\tvalidation_0-mlogloss:0.37794\tvalidation_0-merror:0.05484\tvalidation_1-mlogloss:0.72208\tvalidation_1-merror:0.29104\n",
      "[7]\tvalidation_0-mlogloss:0.34890\tvalidation_0-merror:0.05161\tvalidation_1-mlogloss:0.71532\tvalidation_1-merror:0.27612\n",
      "[8]\tvalidation_0-mlogloss:0.31816\tvalidation_0-merror:0.04516\tvalidation_1-mlogloss:0.71374\tvalidation_1-merror:0.28358\n",
      "[9]\tvalidation_0-mlogloss:0.29757\tvalidation_0-merror:0.03871\tvalidation_1-mlogloss:0.71176\tvalidation_1-merror:0.26866\n",
      "[10]\tvalidation_0-mlogloss:0.27797\tvalidation_0-merror:0.03548\tvalidation_1-mlogloss:0.71160\tvalidation_1-merror:0.28358\n",
      "[11]\tvalidation_0-mlogloss:0.26217\tvalidation_0-merror:0.03548\tvalidation_1-mlogloss:0.70892\tvalidation_1-merror:0.28358\n",
      "[12]\tvalidation_0-mlogloss:0.24511\tvalidation_0-merror:0.02903\tvalidation_1-mlogloss:0.70344\tvalidation_1-merror:0.28358\n",
      "[13]\tvalidation_0-mlogloss:0.23152\tvalidation_0-merror:0.03226\tvalidation_1-mlogloss:0.69823\tvalidation_1-merror:0.30597\n",
      "[14]\tvalidation_0-mlogloss:0.21758\tvalidation_0-merror:0.02581\tvalidation_1-mlogloss:0.70234\tvalidation_1-merror:0.28358\n",
      "[15]\tvalidation_0-mlogloss:0.20676\tvalidation_0-merror:0.02581\tvalidation_1-mlogloss:0.70614\tvalidation_1-merror:0.29104\n",
      "[16]\tvalidation_0-mlogloss:0.19910\tvalidation_0-merror:0.02581\tvalidation_1-mlogloss:0.69971\tvalidation_1-merror:0.28358\n",
      "[17]\tvalidation_0-mlogloss:0.18984\tvalidation_0-merror:0.01613\tvalidation_1-mlogloss:0.70646\tvalidation_1-merror:0.28358\n",
      "[18]\tvalidation_0-mlogloss:0.18133\tvalidation_0-merror:0.01613\tvalidation_1-mlogloss:0.70273\tvalidation_1-merror:0.29104\n",
      "[19]\tvalidation_0-mlogloss:0.17328\tvalidation_0-merror:0.01613\tvalidation_1-mlogloss:0.70291\tvalidation_1-merror:0.26866\n",
      "[20]\tvalidation_0-mlogloss:0.16230\tvalidation_0-merror:0.00968\tvalidation_1-mlogloss:0.70906\tvalidation_1-merror:0.26866\n",
      "[21]\tvalidation_0-mlogloss:0.15328\tvalidation_0-merror:0.00968\tvalidation_1-mlogloss:0.71621\tvalidation_1-merror:0.30597\n",
      "[22]\tvalidation_0-mlogloss:0.14755\tvalidation_0-merror:0.00645\tvalidation_1-mlogloss:0.71892\tvalidation_1-merror:0.30597\n",
      "[23]\tvalidation_0-mlogloss:0.14188\tvalidation_0-merror:0.00645\tvalidation_1-mlogloss:0.71925\tvalidation_1-merror:0.28358\n",
      "[24]\tvalidation_0-mlogloss:0.13638\tvalidation_0-merror:0.00645\tvalidation_1-mlogloss:0.71996\tvalidation_1-merror:0.29851\n",
      "[25]\tvalidation_0-mlogloss:0.12929\tvalidation_0-merror:0.00645\tvalidation_1-mlogloss:0.73263\tvalidation_1-merror:0.30597\n",
      "[26]\tvalidation_0-mlogloss:0.12317\tvalidation_0-merror:0.00645\tvalidation_1-mlogloss:0.73509\tvalidation_1-merror:0.31343\n",
      "[27]\tvalidation_0-mlogloss:0.11857\tvalidation_0-merror:0.00645\tvalidation_1-mlogloss:0.74373\tvalidation_1-merror:0.32836\n",
      "[28]\tvalidation_0-mlogloss:0.11414\tvalidation_0-merror:0.00645\tvalidation_1-mlogloss:0.74692\tvalidation_1-merror:0.32836\n",
      "[29]\tvalidation_0-mlogloss:0.11095\tvalidation_0-merror:0.00645\tvalidation_1-mlogloss:0.74782\tvalidation_1-merror:0.32836\n",
      "[30]\tvalidation_0-mlogloss:0.10597\tvalidation_0-merror:0.00645\tvalidation_1-mlogloss:0.75258\tvalidation_1-merror:0.31343\n",
      "[31]\tvalidation_0-mlogloss:0.10144\tvalidation_0-merror:0.00645\tvalidation_1-mlogloss:0.75434\tvalidation_1-merror:0.32836\n",
      "[32]\tvalidation_0-mlogloss:0.09821\tvalidation_0-merror:0.00323\tvalidation_1-mlogloss:0.75893\tvalidation_1-merror:0.32836\n",
      "[33]\tvalidation_0-mlogloss:0.09416\tvalidation_0-merror:0.00645\tvalidation_1-mlogloss:0.76686\tvalidation_1-merror:0.32836\n",
      "[34]\tvalidation_0-mlogloss:0.08989\tvalidation_0-merror:0.00645\tvalidation_1-mlogloss:0.77615\tvalidation_1-merror:0.32090\n",
      "[35]\tvalidation_0-mlogloss:0.08669\tvalidation_0-merror:0.00645\tvalidation_1-mlogloss:0.77875\tvalidation_1-merror:0.32090\n",
      "[36]\tvalidation_0-mlogloss:0.08385\tvalidation_0-merror:0.00323\tvalidation_1-mlogloss:0.78000\tvalidation_1-merror:0.31343\n",
      "[37]\tvalidation_0-mlogloss:0.08033\tvalidation_0-merror:0.00645\tvalidation_1-mlogloss:0.79498\tvalidation_1-merror:0.33582\n",
      "[38]\tvalidation_0-mlogloss:0.07791\tvalidation_0-merror:0.00323\tvalidation_1-mlogloss:0.80124\tvalidation_1-merror:0.33582\n",
      "[39]\tvalidation_0-mlogloss:0.07567\tvalidation_0-merror:0.00323\tvalidation_1-mlogloss:0.80380\tvalidation_1-merror:0.32836\n",
      "[40]\tvalidation_0-mlogloss:0.07266\tvalidation_0-merror:0.00323\tvalidation_1-mlogloss:0.81488\tvalidation_1-merror:0.32090\n",
      "[41]\tvalidation_0-mlogloss:0.07029\tvalidation_0-merror:0.00000\tvalidation_1-mlogloss:0.82341\tvalidation_1-merror:0.33582\n",
      "[42]\tvalidation_0-mlogloss:0.06764\tvalidation_0-merror:0.00000\tvalidation_1-mlogloss:0.82778\tvalidation_1-merror:0.32836\n",
      "[43]\tvalidation_0-mlogloss:0.06600\tvalidation_0-merror:0.00323\tvalidation_1-mlogloss:0.82877\tvalidation_1-merror:0.32836\n",
      "[44]\tvalidation_0-mlogloss:0.06415\tvalidation_0-merror:0.00000\tvalidation_1-mlogloss:0.83118\tvalidation_1-merror:0.33582\n",
      "[45]\tvalidation_0-mlogloss:0.06235\tvalidation_0-merror:0.00000\tvalidation_1-mlogloss:0.83840\tvalidation_1-merror:0.33582\n",
      "[46]\tvalidation_0-mlogloss:0.06051\tvalidation_0-merror:0.00323\tvalidation_1-mlogloss:0.84036\tvalidation_1-merror:0.34328\n",
      "[47]\tvalidation_0-mlogloss:0.05893\tvalidation_0-merror:0.00323\tvalidation_1-mlogloss:0.84735\tvalidation_1-merror:0.34328\n",
      "[48]\tvalidation_0-mlogloss:0.05744\tvalidation_0-merror:0.00323\tvalidation_1-mlogloss:0.85567\tvalidation_1-merror:0.34328\n",
      "[49]\tvalidation_0-mlogloss:0.05610\tvalidation_0-merror:0.00323\tvalidation_1-mlogloss:0.86443\tvalidation_1-merror:0.34328\n",
      "[50]\tvalidation_0-mlogloss:0.05487\tvalidation_0-merror:0.00323\tvalidation_1-mlogloss:0.86787\tvalidation_1-merror:0.34328\n",
      "[51]\tvalidation_0-mlogloss:0.05363\tvalidation_0-merror:0.00323\tvalidation_1-mlogloss:0.87065\tvalidation_1-merror:0.34328\n",
      "[52]\tvalidation_0-mlogloss:0.05255\tvalidation_0-merror:0.00323\tvalidation_1-mlogloss:0.87358\tvalidation_1-merror:0.34328\n",
      "[53]\tvalidation_0-mlogloss:0.05152\tvalidation_0-merror:0.00323\tvalidation_1-mlogloss:0.87845\tvalidation_1-merror:0.34328\n",
      "[54]\tvalidation_0-mlogloss:0.05070\tvalidation_0-merror:0.00323\tvalidation_1-mlogloss:0.88068\tvalidation_1-merror:0.34328\n",
      "[55]\tvalidation_0-mlogloss:0.04981\tvalidation_0-merror:0.00323\tvalidation_1-mlogloss:0.88888\tvalidation_1-merror:0.35075\n",
      "[56]\tvalidation_0-mlogloss:0.04898\tvalidation_0-merror:0.00323\tvalidation_1-mlogloss:0.89405\tvalidation_1-merror:0.35075\n",
      "[57]\tvalidation_0-mlogloss:0.04806\tvalidation_0-merror:0.00323\tvalidation_1-mlogloss:0.89943\tvalidation_1-merror:0.35075\n",
      "[58]\tvalidation_0-mlogloss:0.04738\tvalidation_0-merror:0.00323\tvalidation_1-mlogloss:0.90277\tvalidation_1-merror:0.35821\n",
      "[59]\tvalidation_0-mlogloss:0.04662\tvalidation_0-merror:0.00323\tvalidation_1-mlogloss:0.90514\tvalidation_1-merror:0.35821\n",
      "[60]\tvalidation_0-mlogloss:0.04583\tvalidation_0-merror:0.00323\tvalidation_1-mlogloss:0.90554\tvalidation_1-merror:0.35821\n",
      "[61]\tvalidation_0-mlogloss:0.04514\tvalidation_0-merror:0.00323\tvalidation_1-mlogloss:0.90733\tvalidation_1-merror:0.35821\n",
      "[62]\tvalidation_0-mlogloss:0.04424\tvalidation_0-merror:0.00323\tvalidation_1-mlogloss:0.90982\tvalidation_1-merror:0.36567\n",
      "[63]\tvalidation_0-mlogloss:0.04358\tvalidation_0-merror:0.00323\tvalidation_1-mlogloss:0.91348\tvalidation_1-merror:0.36567\n",
      "[64]\tvalidation_0-mlogloss:0.04304\tvalidation_0-merror:0.00323\tvalidation_1-mlogloss:0.91501\tvalidation_1-merror:0.35821\n",
      "[65]\tvalidation_0-mlogloss:0.04239\tvalidation_0-merror:0.00323\tvalidation_1-mlogloss:0.91522\tvalidation_1-merror:0.34328\n",
      "[66]\tvalidation_0-mlogloss:0.04172\tvalidation_0-merror:0.00323\tvalidation_1-mlogloss:0.91746\tvalidation_1-merror:0.33582\n",
      "[67]\tvalidation_0-mlogloss:0.04120\tvalidation_0-merror:0.00323\tvalidation_1-mlogloss:0.91891\tvalidation_1-merror:0.34328\n",
      "[68]\tvalidation_0-mlogloss:0.04067\tvalidation_0-merror:0.00323\tvalidation_1-mlogloss:0.91965\tvalidation_1-merror:0.34328\n",
      "[69]\tvalidation_0-mlogloss:0.04020\tvalidation_0-merror:0.00323\tvalidation_1-mlogloss:0.92672\tvalidation_1-merror:0.34328\n",
      "[70]\tvalidation_0-mlogloss:0.03966\tvalidation_0-merror:0.00323\tvalidation_1-mlogloss:0.92697\tvalidation_1-merror:0.35075\n",
      "[71]\tvalidation_0-mlogloss:0.03923\tvalidation_0-merror:0.00323\tvalidation_1-mlogloss:0.93221\tvalidation_1-merror:0.35075\n",
      "[72]\tvalidation_0-mlogloss:0.03881\tvalidation_0-merror:0.00323\tvalidation_1-mlogloss:0.93796\tvalidation_1-merror:0.35821\n",
      "[73]\tvalidation_0-mlogloss:0.03835\tvalidation_0-merror:0.00323\tvalidation_1-mlogloss:0.93920\tvalidation_1-merror:0.35075\n",
      "[74]\tvalidation_0-mlogloss:0.03798\tvalidation_0-merror:0.00323\tvalidation_1-mlogloss:0.94111\tvalidation_1-merror:0.35821\n",
      "[75]\tvalidation_0-mlogloss:0.03763\tvalidation_0-merror:0.00323\tvalidation_1-mlogloss:0.94160\tvalidation_1-merror:0.35821\n",
      "[76]\tvalidation_0-mlogloss:0.03726\tvalidation_0-merror:0.00323\tvalidation_1-mlogloss:0.94096\tvalidation_1-merror:0.35821\n",
      "[77]\tvalidation_0-mlogloss:0.03694\tvalidation_0-merror:0.00323\tvalidation_1-mlogloss:0.94349\tvalidation_1-merror:0.35821\n",
      "[78]\tvalidation_0-mlogloss:0.03655\tvalidation_0-merror:0.00323\tvalidation_1-mlogloss:0.94743\tvalidation_1-merror:0.35075\n",
      "[79]\tvalidation_0-mlogloss:0.03624\tvalidation_0-merror:0.00323\tvalidation_1-mlogloss:0.95095\tvalidation_1-merror:0.35075\n",
      "[80]\tvalidation_0-mlogloss:0.03596\tvalidation_0-merror:0.00323\tvalidation_1-mlogloss:0.95470\tvalidation_1-merror:0.35075\n",
      "[81]\tvalidation_0-mlogloss:0.03565\tvalidation_0-merror:0.00323\tvalidation_1-mlogloss:0.95819\tvalidation_1-merror:0.35075\n",
      "[82]\tvalidation_0-mlogloss:0.03540\tvalidation_0-merror:0.00323\tvalidation_1-mlogloss:0.95877\tvalidation_1-merror:0.35075\n",
      "[83]\tvalidation_0-mlogloss:0.03515\tvalidation_0-merror:0.00323\tvalidation_1-mlogloss:0.96280\tvalidation_1-merror:0.35075\n",
      "[84]\tvalidation_0-mlogloss:0.03493\tvalidation_0-merror:0.00323\tvalidation_1-mlogloss:0.96256\tvalidation_1-merror:0.35075\n",
      "[85]\tvalidation_0-mlogloss:0.03468\tvalidation_0-merror:0.00323\tvalidation_1-mlogloss:0.96523\tvalidation_1-merror:0.35075\n",
      "[86]\tvalidation_0-mlogloss:0.03443\tvalidation_0-merror:0.00323\tvalidation_1-mlogloss:0.96720\tvalidation_1-merror:0.35075\n",
      "[87]\tvalidation_0-mlogloss:0.03419\tvalidation_0-merror:0.00323\tvalidation_1-mlogloss:0.96799\tvalidation_1-merror:0.35075\n",
      "[88]\tvalidation_0-mlogloss:0.03390\tvalidation_0-merror:0.00323\tvalidation_1-mlogloss:0.97290\tvalidation_1-merror:0.35075\n",
      "[89]\tvalidation_0-mlogloss:0.03366\tvalidation_0-merror:0.00323\tvalidation_1-mlogloss:0.97696\tvalidation_1-merror:0.35075\n",
      "[90]\tvalidation_0-mlogloss:0.03338\tvalidation_0-merror:0.00323\tvalidation_1-mlogloss:0.97802\tvalidation_1-merror:0.34328\n",
      "[91]\tvalidation_0-mlogloss:0.03319\tvalidation_0-merror:0.00323\tvalidation_1-mlogloss:0.98017\tvalidation_1-merror:0.34328\n",
      "[92]\tvalidation_0-mlogloss:0.03299\tvalidation_0-merror:0.00323\tvalidation_1-mlogloss:0.98111\tvalidation_1-merror:0.34328\n",
      "[93]\tvalidation_0-mlogloss:0.03280\tvalidation_0-merror:0.00323\tvalidation_1-mlogloss:0.98171\tvalidation_1-merror:0.34328\n",
      "[94]\tvalidation_0-mlogloss:0.03257\tvalidation_0-merror:0.00323\tvalidation_1-mlogloss:0.98217\tvalidation_1-merror:0.34328\n",
      "[95]\tvalidation_0-mlogloss:0.03237\tvalidation_0-merror:0.00323\tvalidation_1-mlogloss:0.98420\tvalidation_1-merror:0.34328\n",
      "[96]\tvalidation_0-mlogloss:0.03220\tvalidation_0-merror:0.00323\tvalidation_1-mlogloss:0.98584\tvalidation_1-merror:0.34328\n",
      "[97]\tvalidation_0-mlogloss:0.03204\tvalidation_0-merror:0.00323\tvalidation_1-mlogloss:0.98567\tvalidation_1-merror:0.34328\n",
      "[98]\tvalidation_0-mlogloss:0.03188\tvalidation_0-merror:0.00323\tvalidation_1-mlogloss:0.98567\tvalidation_1-merror:0.33582\n",
      "[99]\tvalidation_0-mlogloss:0.03170\tvalidation_0-merror:0.00323\tvalidation_1-mlogloss:0.98693\tvalidation_1-merror:0.33582\n",
      "Accuracy: 60.90%\n"
     ]
    },
    {
     "data": {
      "image/png": "[encoded data removed]",
      "text/plain": [
       "<Figure size 432x288 with 1 Axes>"
      ]
     },
     "metadata": {
      "needs_background": "light"
     },
     "output_type": "display_data"
    },
    {
     "data": {
      "image/png": "[encoded data removed]",
      "text/plain": [
       "<Figure size 432x288 with 1 Axes>"
      ]
     },
     "metadata": {
      "needs_background": "light"
     },
     "output_type": "display_data"
    }
   ],
   "source": [
    "model = XGBClassifier(objective='multi:softprob')\n",
    "eval_set = [(X_train, y_train), (X_test, y_test)]\n",
    "model.fit(X_train, y_train, eval_metric=[\"mlogloss\", \"merror\"], eval_set=eval_set, verbose=True)\n",
    "\n",
    "y_pred = model.predict(X_test)\n",
    "predictions = [round(value) for value in y_pred]\n",
    "\n",
    "accuracy = balanced_accuracy_score(y_test, predictions)\n",
    "print(\"Accuracy: %.2f%%\" % (accuracy * 100.0))\n",
    "\n",
    "results = model.evals_result()\n",
    "epochs = len(results['validation_0']['mlogloss'])\n",
    "x_axis = range(0, epochs)\n",
    "\n",
    "fig, ax = plt.subplots()\n",
    "ax.plot(x_axis, results['validation_0']['mlogloss'], label='Train')\n",
    "ax.plot(x_axis, results['validation_1']['mlogloss'], label='Test')\n",
    "ax.legend()\n",
    "plt.ylabel('mlogloss')\n",
    "plt.title('XGBoost mlogloss')\n",
    "plt.show()\n",
    "\n",
    "fig, ax = plt.subplots()\n",
    "ax.plot(x_axis, results['validation_0']['merror'], label='Train')\n",
    "ax.plot(x_axis, results['validation_1']['merror'], label='Test')\n",
    "ax.legend()\n",
    "plt.ylabel('Classification Error')\n",
    "plt.title('XGBoost Classification Error')\n",
    "plt.show()"
   ]
  },
  {
   "cell_type": "code",
   "execution_count": 211,
   "metadata": {},
   "outputs": [
    {
     "data": {
      "text/html": [
       "<div>\n",
       "<style scoped>\n",
       "    .dataframe tbody tr th:only-of-type {\n",
       "        vertical-align: middle;\n",
       "    }\n",
       "\n",
       "    .dataframe tbody tr th {\n",
       "        vertical-align: top;\n",
       "    }\n",
       "\n",
       "    .dataframe thead th {\n",
       "        text-align: right;\n",
       "    }\n",
       "</style>\n",
       "<table border=\"1\" class=\"dataframe\">\n",
       "  <thead>\n",
       "    <tr style=\"text-align: right;\">\n",
       "      <th></th>\n",
       "      <th>index</th>\n",
       "    </tr>\n",
       "    <tr>\n",
       "      <th>Патология</th>\n",
       "      <th></th>\n",
       "    </tr>\n",
       "  </thead>\n",
       "  <tbody>\n",
       "    <tr>\n",
       "      <th>0.0</th>\n",
       "      <td>152</td>\n",
       "    </tr>\n",
       "    <tr>\n",
       "      <th>1.0</th>\n",
       "      <td>92</td>\n",
       "    </tr>\n",
       "    <tr>\n",
       "      <th>2.0</th>\n",
       "      <td>66</td>\n",
       "    </tr>\n",
       "  </tbody>\n",
       "</table>\n",
       "</div>"
      ],
      "text/plain": [
       "           index\n",
       "Патология       \n",
       "0.0          152\n",
       "1.0           92\n",
       "2.0           66"
      ]
     },
     "execution_count": 211,
     "metadata": {},
     "output_type": "execute_result"
    }
   ],
   "source": [
    "y_train.to_frame().reset_index().groupby('Патология').count()"
   ]
  },
  {
   "cell_type": "code",
   "execution_count": 212,
   "metadata": {},
   "outputs": [
    {
     "data": {
      "text/html": [
       "<div>\n",
       "<style scoped>\n",
       "    .dataframe tbody tr th:only-of-type {\n",
       "        vertical-align: middle;\n",
       "    }\n",
       "\n",
       "    .dataframe tbody tr th {\n",
       "        vertical-align: top;\n",
       "    }\n",
       "\n",
       "    .dataframe thead th {\n",
       "        text-align: right;\n",
       "    }\n",
       "</style>\n",
       "<table border=\"1\" class=\"dataframe\">\n",
       "  <thead>\n",
       "    <tr style=\"text-align: right;\">\n",
       "      <th></th>\n",
       "      <th>index</th>\n",
       "    </tr>\n",
       "    <tr>\n",
       "      <th>Патология</th>\n",
       "      <th></th>\n",
       "    </tr>\n",
       "  </thead>\n",
       "  <tbody>\n",
       "    <tr>\n",
       "      <th>0.0</th>\n",
       "      <td>74</td>\n",
       "    </tr>\n",
       "    <tr>\n",
       "      <th>1.0</th>\n",
       "      <td>36</td>\n",
       "    </tr>\n",
       "    <tr>\n",
       "      <th>2.0</th>\n",
       "      <td>24</td>\n",
       "    </tr>\n",
       "  </tbody>\n",
       "</table>\n",
       "</div>"
      ],
      "text/plain": [
       "           index\n",
       "Патология       \n",
       "0.0           74\n",
       "1.0           36\n",
       "2.0           24"
      ]
     },
     "execution_count": 212,
     "metadata": {},
     "output_type": "execute_result"
    }
   ],
   "source": [
    "y_test.to_frame().reset_index().groupby('Патология').count()"
   ]
  },
  {
   "cell_type": "markdown",
   "metadata": {},
   "source": [
    " "
   ]
  },
  {
   "cell_type": "markdown",
   "metadata": {},
   "source": [
    " "
   ]
  },
  {
   "cell_type": "markdown",
   "metadata": {},
   "source": [
    " "
   ]
  },
  {
   "cell_type": "markdown",
   "metadata": {},
   "source": [
    " "
   ]
  },
  {
   "cell_type": "markdown",
   "metadata": {},
   "source": [
    " "
   ]
  },
  {
   "cell_type": "markdown",
   "metadata": {},
   "source": [
    "## ФЛГ"
   ]
  },
  {
   "cell_type": "code",
   "execution_count": 213,
   "metadata": {},
   "outputs": [
    {
     "data": {
      "text/html": [
       "<div>\n",
       "<style scoped>\n",
       "    .dataframe tbody tr th:only-of-type {\n",
       "        vertical-align: middle;\n",
       "    }\n",
       "\n",
       "    .dataframe tbody tr th {\n",
       "        vertical-align: top;\n",
       "    }\n",
       "\n",
       "    .dataframe thead th {\n",
       "        text-align: right;\n",
       "    }\n",
       "</style>\n",
       "<table border=\"1\" class=\"dataframe\">\n",
       "  <thead>\n",
       "    <tr style=\"text-align: right;\">\n",
       "      <th></th>\n",
       "      <th>Unnamed: 0</th>\n",
       "      <th>Unnamed: 0.1</th>\n",
       "      <th>Unnamed: 0.1.1</th>\n",
       "      <th>Наименование ИИ</th>\n",
       "      <th>Уникальный идентификатор исследования</th>\n",
       "      <th>Наименование процедуры</th>\n",
       "      <th>МО</th>\n",
       "      <th>Ae-title</th>\n",
       "      <th>Модальность</th>\n",
       "      <th>Дата отправки исследования в PACS</th>\n",
       "      <th>Дата создания заключения</th>\n",
       "      <th>Возраст пациента</th>\n",
       "      <th>Время начала обработки моделью ИИ</th>\n",
       "      <th>Время окончания обработки моделью ИИ</th>\n",
       "      <th>Автор заключения</th>\n",
       "      <th>Описание исследования</th>\n",
       "      <th>Заключение по исследованию</th>\n",
       "      <th>0 - норма, 1 - патология в рамках базовых требований, 2 -патология вне базовых требований</th>\n",
       "      <th>Патология по базовым требованиям: 1 - выпот, 2 - пневмоторакс, 3 - ателектаз, 4 - очаг затемнения, 5 - инфильтрация/консолидация, 6 - диссеминация, 7 - полость с распадом/уровнем жидкости, 8 - кальцинат, 9 - перелом ребра, грудины, ГОП</th>\n",
       "      <th>Патология вне требований</th>\n",
       "    </tr>\n",
       "  </thead>\n",
       "  <tbody>\n",
       "    <tr>\n",
       "      <th>0</th>\n",
       "      <td>11</td>\n",
       "      <td>18</td>\n",
       "      <td>18</td>\n",
       "      <td>Цельс ФЛГ</td>\n",
       "      <td>1.871.3.1427050605.36698.17300.3112620700.8171...</td>\n",
       "      <td>Флюорография легких профилактическая</td>\n",
       "      <td>Филиал ГБУЗ \"МНПЦ борьбы с туберкулезом ДЗМ\" п...</td>\n",
       "      <td>RENEXSCU1_PTD13</td>\n",
       "      <td>Флюорограф</td>\n",
       "      <td>22.08.2020 09:38:00</td>\n",
       "      <td>2020-08-24 08:43:00</td>\n",
       "      <td>49</td>\n",
       "      <td>2020-08-22 09:39:33</td>\n",
       "      <td>2020-08-22 09:39:39</td>\n",
       "      <td>Иноземцева Алла Борисовна</td>\n",
       "      <td>\\n\\nЛегочные поля прозрачные. Корни структурны...</td>\n",
       "      <td>\\n\\nПатологические изменения не определяются.\\...</td>\n",
       "      <td>0.0</td>\n",
       "      <td>NaN</td>\n",
       "      <td>NaN</td>\n",
       "    </tr>\n",
       "  </tbody>\n",
       "</table>\n",
       "</div>"
      ],
      "text/plain": [
       "   Unnamed: 0  Unnamed: 0.1  Unnamed: 0.1.1 Наименование ИИ  \\\n",
       "0          11            18              18       Цельс ФЛГ   \n",
       "\n",
       "               Уникальный идентификатор исследования  \\\n",
       "0  1.871.3.1427050605.36698.17300.3112620700.8171...   \n",
       "\n",
       "                 Наименование процедуры  \\\n",
       "0  Флюорография легких профилактическая   \n",
       "\n",
       "                                                  МО         Ae-title  \\\n",
       "0  Филиал ГБУЗ \"МНПЦ борьбы с туберкулезом ДЗМ\" п...  RENEXSCU1_PTD13   \n",
       "\n",
       "  Модальность Дата отправки исследования в PACS Дата создания заключения  \\\n",
       "0  Флюорограф               22.08.2020 09:38:00      2020-08-24 08:43:00   \n",
       "\n",
       "   Возраст пациента Время начала обработки моделью ИИ  \\\n",
       "0                49               2020-08-22 09:39:33   \n",
       "\n",
       "  Время окончания обработки моделью ИИ           Автор заключения  \\\n",
       "0                  2020-08-22 09:39:39  Иноземцева Алла Борисовна   \n",
       "\n",
       "                               Описание исследования  \\\n",
       "0  \\n\\nЛегочные поля прозрачные. Корни структурны...   \n",
       "\n",
       "                          Заключение по исследованию  \\\n",
       "0  \\n\\nПатологические изменения не определяются.\\...   \n",
       "\n",
       "   0 - норма, 1 - патология в рамках базовых требований, 2 -патология вне базовых требований  \\\n",
       "0                                                0.0                                           \n",
       "\n",
       "  Патология по базовым требованиям: 1 - выпот, 2 - пневмоторакс, 3 - ателектаз, 4 - очаг затемнения, 5 - инфильтрация/консолидация, 6 - диссеминация, 7 - полость с распадом/уровнем жидкости, 8 - кальцинат, 9 - перелом ребра, грудины, ГОП  \\\n",
       "0                                                NaN                                                                                                                                                                                            \n",
       "\n",
       "  Патология вне требований  \n",
       "0                      NaN  "
      ]
     },
     "execution_count": 213,
     "metadata": {},
     "output_type": "execute_result"
    }
   ],
   "source": [
    "FLG=pd.read_excel('C:/Users/l.soina/Downloads/флг_1.xlsx')\n",
    "FLG.head(1)"
   ]
  },
  {
   "cell_type": "code",
   "execution_count": 215,
   "metadata": {},
   "outputs": [
    {
     "data": {
      "text/plain": [
       "996"
      ]
     },
     "execution_count": 215,
     "metadata": {},
     "output_type": "execute_result"
    }
   ],
   "source": [
    "FLG=FLG[['Заключение по исследованию','0 - норма, 1 - патология в рамках базовых требований, 2 -патология вне базовых требований']]\\\n",
    ".dropna(subset=['0 - норма, 1 - патология в рамках базовых требований, 2 -патология вне базовых требований'])\n",
    "len(FLG)"
   ]
  },
  {
   "cell_type": "code",
   "execution_count": 216,
   "metadata": {},
   "outputs": [
    {
     "data": {
      "text/html": [
       "<div>\n",
       "<style scoped>\n",
       "    .dataframe tbody tr th:only-of-type {\n",
       "        vertical-align: middle;\n",
       "    }\n",
       "\n",
       "    .dataframe tbody tr th {\n",
       "        vertical-align: top;\n",
       "    }\n",
       "\n",
       "    .dataframe thead th {\n",
       "        text-align: right;\n",
       "    }\n",
       "</style>\n",
       "<table border=\"1\" class=\"dataframe\">\n",
       "  <thead>\n",
       "    <tr style=\"text-align: right;\">\n",
       "      <th></th>\n",
       "      <th>Заключение по исследованию</th>\n",
       "      <th>0 - норма, 1 - патология в рамках базовых требований, 2 -патология вне базовых требований</th>\n",
       "    </tr>\n",
       "  </thead>\n",
       "  <tbody>\n",
       "    <tr>\n",
       "      <th>0</th>\n",
       "      <td>\\n\\nПатологические изменения не определяются.\\...</td>\n",
       "      <td>0.0</td>\n",
       "    </tr>\n",
       "    <tr>\n",
       "      <th>1</th>\n",
       "      <td>\\n\\nОрганы грудной клетки без патологических и...</td>\n",
       "      <td>0.0</td>\n",
       "    </tr>\n",
       "    <tr>\n",
       "      <th>2</th>\n",
       "      <td>\\n\\nПатологических изменений в органах грудной...</td>\n",
       "      <td>0.0</td>\n",
       "    </tr>\n",
       "    <tr>\n",
       "      <th>3</th>\n",
       "      <td>\\n\\nЗаключение: без свежих очаговых и инфильтр...</td>\n",
       "      <td>0.0</td>\n",
       "    </tr>\n",
       "    <tr>\n",
       "      <th>4</th>\n",
       "      <td>\\n\\nОчаговых и инфильтративных изменений не оп...</td>\n",
       "      <td>0.0</td>\n",
       "    </tr>\n",
       "  </tbody>\n",
       "</table>\n",
       "</div>"
      ],
      "text/plain": [
       "                          Заключение по исследованию  \\\n",
       "0  \\n\\nПатологические изменения не определяются.\\...   \n",
       "1  \\n\\nОрганы грудной клетки без патологических и...   \n",
       "2  \\n\\nПатологических изменений в органах грудной...   \n",
       "3  \\n\\nЗаключение: без свежих очаговых и инфильтр...   \n",
       "4  \\n\\nОчаговых и инфильтративных изменений не оп...   \n",
       "\n",
       "   0 - норма, 1 - патология в рамках базовых требований, 2 -патология вне базовых требований  \n",
       "0                                                0.0                                          \n",
       "1                                                0.0                                          \n",
       "2                                                0.0                                          \n",
       "3                                                0.0                                          \n",
       "4                                                0.0                                          "
      ]
     },
     "execution_count": 216,
     "metadata": {},
     "output_type": "execute_result"
    }
   ],
   "source": [
    "FLG.head()"
   ]
  },
  {
   "cell_type": "code",
   "execution_count": 218,
   "metadata": {},
   "outputs": [],
   "source": [
    "FLG.columns=['Заключение','Патология']"
   ]
  },
  {
   "cell_type": "code",
   "execution_count": 221,
   "metadata": {},
   "outputs": [
    {
     "name": "stderr",
     "output_type": "stream",
     "text": [
      "100%|██████████████████████████████████████████████████████████████████████████████| 418/418 [00:00<00:00, 9349.06it/s]\n",
      "100%|███████████████████████████████████████████████████████████████████████████████| 418/418 [00:00<00:00, 512.94it/s]\n"
     ]
    }
   ],
   "source": [
    "FLG_prep=text_processing(FLG,'Заключение')"
   ]
  },
  {
   "cell_type": "code",
   "execution_count": 227,
   "metadata": {},
   "outputs": [
    {
     "name": "stdout",
     "output_type": "stream",
     "text": [
      "[14:39:50] WARNING: C:/Users/Administrator/workspace/xgboost-win64_release_1.3.0/src/learner.cc:1061: Starting in XGBoost 1.3.0, the default evaluation metric used with the objective 'multi:softprob' was changed from 'merror' to 'mlogloss'. Explicitly set eval_metric if you'd like to restore the old behavior.\n"
     ]
    }
   ],
   "source": [
    "clf,X_test, y_test,y_pred,X_train, y_train,vectorizer=classification(FLG_prep,'text_stem','Патология',12)"
   ]
  },
  {
   "cell_type": "code",
   "execution_count": 228,
   "metadata": {},
   "outputs": [
    {
     "data": {
      "image/png": "[encoded data removed]",
      "text/plain": [
       "<Figure size 432x288 with 2 Axes>"
      ]
     },
     "metadata": {
      "needs_background": "light"
     },
     "output_type": "display_data"
    },
    {
     "name": "stdout",
     "output_type": "stream",
     "text": [
      "precision [0.90721649 0.58333333 0.2       ]\n",
      "recall [0.89795918 0.82352941 0.09090909]\n",
      "fscore [0.9025641  0.68292683 0.125     ]\n",
      "balanced accuracy 0.6041325621157553\n"
     ]
    }
   ],
   "source": [
    "plot_confusion_matrix(clf, X_test, y_test)  \n",
    "prf=precision_recall_fscore_support(y_test, y_pred)\n",
    "b_accuracy=balanced_accuracy_score(y_test, y_pred)\n",
    "plt.show() \n",
    "print('precision',prf[0])\n",
    "print('recall',prf[1])\n",
    "print('fscore',prf[2])\n",
    "print('balanced accuracy', b_accuracy)"
   ]
  },
  {
   "cell_type": "code",
   "execution_count": 229,
   "metadata": {},
   "outputs": [
    {
     "data": {
      "text/html": [
       "<div>\n",
       "<style scoped>\n",
       "    .dataframe tbody tr th:only-of-type {\n",
       "        vertical-align: middle;\n",
       "    }\n",
       "\n",
       "    .dataframe tbody tr th {\n",
       "        vertical-align: top;\n",
       "    }\n",
       "\n",
       "    .dataframe thead th {\n",
       "        text-align: right;\n",
       "    }\n",
       "</style>\n",
       "<table border=\"1\" class=\"dataframe\">\n",
       "  <thead>\n",
       "    <tr style=\"text-align: right;\">\n",
       "      <th></th>\n",
       "      <th>index</th>\n",
       "    </tr>\n",
       "    <tr>\n",
       "      <th>Патология</th>\n",
       "      <th></th>\n",
       "    </tr>\n",
       "  </thead>\n",
       "  <tbody>\n",
       "    <tr>\n",
       "      <th>0.0</th>\n",
       "      <td>210</td>\n",
       "    </tr>\n",
       "    <tr>\n",
       "      <th>1.0</th>\n",
       "      <td>59</td>\n",
       "    </tr>\n",
       "    <tr>\n",
       "      <th>2.0</th>\n",
       "      <td>23</td>\n",
       "    </tr>\n",
       "  </tbody>\n",
       "</table>\n",
       "</div>"
      ],
      "text/plain": [
       "           index\n",
       "Патология       \n",
       "0.0          210\n",
       "1.0           59\n",
       "2.0           23"
      ]
     },
     "execution_count": 229,
     "metadata": {},
     "output_type": "execute_result"
    }
   ],
   "source": [
    "y_train.to_frame().reset_index().groupby('Патология').count()"
   ]
  },
  {
   "cell_type": "code",
   "execution_count": 230,
   "metadata": {},
   "outputs": [
    {
     "data": {
      "text/html": [
       "<div>\n",
       "<style scoped>\n",
       "    .dataframe tbody tr th:only-of-type {\n",
       "        vertical-align: middle;\n",
       "    }\n",
       "\n",
       "    .dataframe tbody tr th {\n",
       "        vertical-align: top;\n",
       "    }\n",
       "\n",
       "    .dataframe thead th {\n",
       "        text-align: right;\n",
       "    }\n",
       "</style>\n",
       "<table border=\"1\" class=\"dataframe\">\n",
       "  <thead>\n",
       "    <tr style=\"text-align: right;\">\n",
       "      <th></th>\n",
       "      <th>index</th>\n",
       "    </tr>\n",
       "    <tr>\n",
       "      <th>Патология</th>\n",
       "      <th></th>\n",
       "    </tr>\n",
       "  </thead>\n",
       "  <tbody>\n",
       "    <tr>\n",
       "      <th>0.0</th>\n",
       "      <td>98</td>\n",
       "    </tr>\n",
       "    <tr>\n",
       "      <th>1.0</th>\n",
       "      <td>17</td>\n",
       "    </tr>\n",
       "    <tr>\n",
       "      <th>2.0</th>\n",
       "      <td>11</td>\n",
       "    </tr>\n",
       "  </tbody>\n",
       "</table>\n",
       "</div>"
      ],
      "text/plain": [
       "           index\n",
       "Патология       \n",
       "0.0           98\n",
       "1.0           17\n",
       "2.0           11"
      ]
     },
     "execution_count": 230,
     "metadata": {},
     "output_type": "execute_result"
    }
   ],
   "source": [
    "y_test.to_frame().reset_index().groupby('Патология').count()"
   ]
  },
  {
   "cell_type": "code",
   "execution_count": 226,
   "metadata": {},
   "outputs": [
    {
     "name": "stdout",
     "output_type": "stream",
     "text": [
      "[0]\tvalidation_0-mlogloss:0.82493\tvalidation_0-merror:0.13014\tvalidation_1-mlogloss:0.85186\tvalidation_1-merror:0.14286\n",
      "[1]\tvalidation_0-mlogloss:0.66346\tvalidation_0-merror:0.12671\tvalidation_1-mlogloss:0.71724\tvalidation_1-merror:0.15079\n",
      "[2]\tvalidation_0-mlogloss:0.54653\tvalidation_0-merror:0.12671\tvalidation_1-mlogloss:0.63380\tvalidation_1-merror:0.16667\n",
      "[3]\tvalidation_0-mlogloss:0.45055\tvalidation_0-merror:0.09589\tvalidation_1-mlogloss:0.58368\tvalidation_1-merror:0.16667\n",
      "[4]\tvalidation_0-mlogloss:0.38069\tvalidation_0-merror:0.08562\tvalidation_1-mlogloss:0.54653\tvalidation_1-merror:0.15873\n",
      "[5]\tvalidation_0-mlogloss:0.32340\tvalidation_0-merror:0.07534\tvalidation_1-mlogloss:0.53452\tvalidation_1-merror:0.15873\n",
      "[6]\tvalidation_0-mlogloss:0.28583\tvalidation_0-merror:0.06507\tvalidation_1-mlogloss:0.51090\tvalidation_1-merror:0.15873\n",
      "[7]\tvalidation_0-mlogloss:0.24962\tvalidation_0-merror:0.05822\tvalidation_1-mlogloss:0.50505\tvalidation_1-merror:0.15873\n",
      "[8]\tvalidation_0-mlogloss:0.22045\tvalidation_0-merror:0.04452\tvalidation_1-mlogloss:0.50890\tvalidation_1-merror:0.18254\n",
      "[9]\tvalidation_0-mlogloss:0.19396\tvalidation_0-merror:0.03767\tvalidation_1-mlogloss:0.50821\tvalidation_1-merror:0.17460\n",
      "[10]\tvalidation_0-mlogloss:0.17585\tvalidation_0-merror:0.03425\tvalidation_1-mlogloss:0.50425\tvalidation_1-merror:0.17460\n",
      "[11]\tvalidation_0-mlogloss:0.15846\tvalidation_0-merror:0.02397\tvalidation_1-mlogloss:0.50888\tvalidation_1-merror:0.18254\n",
      "[12]\tvalidation_0-mlogloss:0.14659\tvalidation_0-merror:0.02055\tvalidation_1-mlogloss:0.50301\tvalidation_1-merror:0.17460\n",
      "[13]\tvalidation_0-mlogloss:0.13307\tvalidation_0-merror:0.01370\tvalidation_1-mlogloss:0.51519\tvalidation_1-merror:0.16667\n",
      "[14]\tvalidation_0-mlogloss:0.12178\tvalidation_0-merror:0.01370\tvalidation_1-mlogloss:0.52561\tvalidation_1-merror:0.17460\n",
      "[15]\tvalidation_0-mlogloss:0.11249\tvalidation_0-merror:0.00685\tvalidation_1-mlogloss:0.53294\tvalidation_1-merror:0.18254\n",
      "[16]\tvalidation_0-mlogloss:0.10439\tvalidation_0-merror:0.00343\tvalidation_1-mlogloss:0.54302\tvalidation_1-merror:0.18254\n",
      "[17]\tvalidation_0-mlogloss:0.09821\tvalidation_0-merror:0.00343\tvalidation_1-mlogloss:0.54251\tvalidation_1-merror:0.18254\n",
      "[18]\tvalidation_0-mlogloss:0.09176\tvalidation_0-merror:0.00000\tvalidation_1-mlogloss:0.54947\tvalidation_1-merror:0.18254\n",
      "[19]\tvalidation_0-mlogloss:0.08603\tvalidation_0-merror:0.00343\tvalidation_1-mlogloss:0.55363\tvalidation_1-merror:0.18254\n",
      "[20]\tvalidation_0-mlogloss:0.07955\tvalidation_0-merror:0.00000\tvalidation_1-mlogloss:0.55827\tvalidation_1-merror:0.17460\n",
      "[21]\tvalidation_0-mlogloss:0.07478\tvalidation_0-merror:0.00000\tvalidation_1-mlogloss:0.56635\tvalidation_1-merror:0.18254\n",
      "[22]\tvalidation_0-mlogloss:0.07033\tvalidation_0-merror:0.00000\tvalidation_1-mlogloss:0.57290\tvalidation_1-merror:0.17460\n",
      "[23]\tvalidation_0-mlogloss:0.06639\tvalidation_0-merror:0.00000\tvalidation_1-mlogloss:0.57922\tvalidation_1-merror:0.18254\n",
      "[24]\tvalidation_0-mlogloss:0.06274\tvalidation_0-merror:0.00000\tvalidation_1-mlogloss:0.58408\tvalidation_1-merror:0.18254\n",
      "[25]\tvalidation_0-mlogloss:0.05982\tvalidation_0-merror:0.00000\tvalidation_1-mlogloss:0.59018\tvalidation_1-merror:0.17460\n",
      "[26]\tvalidation_0-mlogloss:0.05697\tvalidation_0-merror:0.00000\tvalidation_1-mlogloss:0.59844\tvalidation_1-merror:0.17460\n",
      "[27]\tvalidation_0-mlogloss:0.05467\tvalidation_0-merror:0.00000\tvalidation_1-mlogloss:0.60670\tvalidation_1-merror:0.17460\n",
      "[28]\tvalidation_0-mlogloss:0.05231\tvalidation_0-merror:0.00000\tvalidation_1-mlogloss:0.61236\tvalidation_1-merror:0.17460\n",
      "[29]\tvalidation_0-mlogloss:0.05010\tvalidation_0-merror:0.00000\tvalidation_1-mlogloss:0.61296\tvalidation_1-merror:0.17460\n",
      "[30]\tvalidation_0-mlogloss:0.04793\tvalidation_0-merror:0.00000\tvalidation_1-mlogloss:0.62078\tvalidation_1-merror:0.17460\n",
      "[31]\tvalidation_0-mlogloss:0.04619\tvalidation_0-merror:0.00000\tvalidation_1-mlogloss:0.62891\tvalidation_1-merror:0.17460\n",
      "[32]\tvalidation_0-mlogloss:0.04449\tvalidation_0-merror:0.00000\tvalidation_1-mlogloss:0.63410\tvalidation_1-merror:0.17460\n",
      "[33]\tvalidation_0-mlogloss:0.04301\tvalidation_0-merror:0.00000\tvalidation_1-mlogloss:0.64376\tvalidation_1-merror:0.17460\n",
      "[34]\tvalidation_0-mlogloss:0.04161\tvalidation_0-merror:0.00000\tvalidation_1-mlogloss:0.64569\tvalidation_1-merror:0.17460\n",
      "[35]\tvalidation_0-mlogloss:0.04031\tvalidation_0-merror:0.00000\tvalidation_1-mlogloss:0.65052\tvalidation_1-merror:0.17460\n",
      "[36]\tvalidation_0-mlogloss:0.03903\tvalidation_0-merror:0.00000\tvalidation_1-mlogloss:0.65901\tvalidation_1-merror:0.17460\n",
      "[37]\tvalidation_0-mlogloss:0.03801\tvalidation_0-merror:0.00000\tvalidation_1-mlogloss:0.66315\tvalidation_1-merror:0.17460\n",
      "[38]\tvalidation_0-mlogloss:0.03714\tvalidation_0-merror:0.00000\tvalidation_1-mlogloss:0.66566\tvalidation_1-merror:0.17460\n",
      "[39]\tvalidation_0-mlogloss:0.03610\tvalidation_0-merror:0.00000\tvalidation_1-mlogloss:0.66928\tvalidation_1-merror:0.17460\n",
      "[40]\tvalidation_0-mlogloss:0.03521\tvalidation_0-merror:0.00000\tvalidation_1-mlogloss:0.67666\tvalidation_1-merror:0.17460\n",
      "[41]\tvalidation_0-mlogloss:0.03415\tvalidation_0-merror:0.00000\tvalidation_1-mlogloss:0.67899\tvalidation_1-merror:0.17460\n",
      "[42]\tvalidation_0-mlogloss:0.03347\tvalidation_0-merror:0.00000\tvalidation_1-mlogloss:0.68101\tvalidation_1-merror:0.17460\n",
      "[43]\tvalidation_0-mlogloss:0.03256\tvalidation_0-merror:0.00000\tvalidation_1-mlogloss:0.69037\tvalidation_1-merror:0.17460\n",
      "[44]\tvalidation_0-mlogloss:0.03189\tvalidation_0-merror:0.00000\tvalidation_1-mlogloss:0.69466\tvalidation_1-merror:0.17460\n",
      "[45]\tvalidation_0-mlogloss:0.03122\tvalidation_0-merror:0.00000\tvalidation_1-mlogloss:0.69679\tvalidation_1-merror:0.17460\n",
      "[46]\tvalidation_0-mlogloss:0.03054\tvalidation_0-merror:0.00000\tvalidation_1-mlogloss:0.70184\tvalidation_1-merror:0.17460\n",
      "[47]\tvalidation_0-mlogloss:0.03004\tvalidation_0-merror:0.00000\tvalidation_1-mlogloss:0.70511\tvalidation_1-merror:0.17460\n",
      "[48]\tvalidation_0-mlogloss:0.02944\tvalidation_0-merror:0.00000\tvalidation_1-mlogloss:0.70846\tvalidation_1-merror:0.17460\n",
      "[49]\tvalidation_0-mlogloss:0.02896\tvalidation_0-merror:0.00000\tvalidation_1-mlogloss:0.71053\tvalidation_1-merror:0.17460\n",
      "[50]\tvalidation_0-mlogloss:0.02845\tvalidation_0-merror:0.00000\tvalidation_1-mlogloss:0.71272\tvalidation_1-merror:0.17460\n",
      "[51]\tvalidation_0-mlogloss:0.02809\tvalidation_0-merror:0.00000\tvalidation_1-mlogloss:0.71498\tvalidation_1-merror:0.17460\n",
      "[52]\tvalidation_0-mlogloss:0.02752\tvalidation_0-merror:0.00000\tvalidation_1-mlogloss:0.72000\tvalidation_1-merror:0.17460\n",
      "[53]\tvalidation_0-mlogloss:0.02704\tvalidation_0-merror:0.00000\tvalidation_1-mlogloss:0.72313\tvalidation_1-merror:0.17460\n",
      "[54]\tvalidation_0-mlogloss:0.02664\tvalidation_0-merror:0.00000\tvalidation_1-mlogloss:0.72793\tvalidation_1-merror:0.17460\n",
      "[55]\tvalidation_0-mlogloss:0.02625\tvalidation_0-merror:0.00000\tvalidation_1-mlogloss:0.72986\tvalidation_1-merror:0.17460\n",
      "[56]\tvalidation_0-mlogloss:0.02596\tvalidation_0-merror:0.00000\tvalidation_1-mlogloss:0.73470\tvalidation_1-merror:0.17460\n",
      "[57]\tvalidation_0-mlogloss:0.02565\tvalidation_0-merror:0.00000\tvalidation_1-mlogloss:0.73385\tvalidation_1-merror:0.17460\n",
      "[58]\tvalidation_0-mlogloss:0.02540\tvalidation_0-merror:0.00000\tvalidation_1-mlogloss:0.73370\tvalidation_1-merror:0.17460\n",
      "[59]\tvalidation_0-mlogloss:0.02515\tvalidation_0-merror:0.00000\tvalidation_1-mlogloss:0.73397\tvalidation_1-merror:0.17460\n",
      "[60]\tvalidation_0-mlogloss:0.02491\tvalidation_0-merror:0.00000\tvalidation_1-mlogloss:0.73793\tvalidation_1-merror:0.17460\n",
      "[61]\tvalidation_0-mlogloss:0.02472\tvalidation_0-merror:0.00000\tvalidation_1-mlogloss:0.73941\tvalidation_1-merror:0.17460\n",
      "[62]\tvalidation_0-mlogloss:0.02451\tvalidation_0-merror:0.00000\tvalidation_1-mlogloss:0.74207\tvalidation_1-merror:0.17460\n",
      "[63]\tvalidation_0-mlogloss:0.02424\tvalidation_0-merror:0.00000\tvalidation_1-mlogloss:0.74517\tvalidation_1-merror:0.17460\n",
      "[64]\tvalidation_0-mlogloss:0.02404\tvalidation_0-merror:0.00000\tvalidation_1-mlogloss:0.74403\tvalidation_1-merror:0.17460\n",
      "[65]\tvalidation_0-mlogloss:0.02384\tvalidation_0-merror:0.00000\tvalidation_1-mlogloss:0.74801\tvalidation_1-merror:0.17460\n",
      "[66]\tvalidation_0-mlogloss:0.02362\tvalidation_0-merror:0.00000\tvalidation_1-mlogloss:0.75032\tvalidation_1-merror:0.17460\n",
      "[67]\tvalidation_0-mlogloss:0.02339\tvalidation_0-merror:0.00000\tvalidation_1-mlogloss:0.75273\tvalidation_1-merror:0.18254\n",
      "[68]\tvalidation_0-mlogloss:0.02315\tvalidation_0-merror:0.00000\tvalidation_1-mlogloss:0.75179\tvalidation_1-merror:0.18254\n",
      "[69]\tvalidation_0-mlogloss:0.02294\tvalidation_0-merror:0.00000\tvalidation_1-mlogloss:0.75513\tvalidation_1-merror:0.18254\n",
      "[70]\tvalidation_0-mlogloss:0.02276\tvalidation_0-merror:0.00000\tvalidation_1-mlogloss:0.75635\tvalidation_1-merror:0.18254\n",
      "[71]\tvalidation_0-mlogloss:0.02255\tvalidation_0-merror:0.00000\tvalidation_1-mlogloss:0.75647\tvalidation_1-merror:0.18254\n",
      "[72]\tvalidation_0-mlogloss:0.02239\tvalidation_0-merror:0.00000\tvalidation_1-mlogloss:0.75674\tvalidation_1-merror:0.18254\n",
      "[73]\tvalidation_0-mlogloss:0.02220\tvalidation_0-merror:0.00000\tvalidation_1-mlogloss:0.76132\tvalidation_1-merror:0.18254\n",
      "[74]\tvalidation_0-mlogloss:0.02202\tvalidation_0-merror:0.00000\tvalidation_1-mlogloss:0.76171\tvalidation_1-merror:0.18254\n",
      "[75]\tvalidation_0-mlogloss:0.02178\tvalidation_0-merror:0.00000\tvalidation_1-mlogloss:0.76292\tvalidation_1-merror:0.18254\n",
      "[76]\tvalidation_0-mlogloss:0.02147\tvalidation_0-merror:0.00000\tvalidation_1-mlogloss:0.76545\tvalidation_1-merror:0.18254\n",
      "[77]\tvalidation_0-mlogloss:0.02125\tvalidation_0-merror:0.00000\tvalidation_1-mlogloss:0.76500\tvalidation_1-merror:0.18254\n",
      "[78]\tvalidation_0-mlogloss:0.02111\tvalidation_0-merror:0.00000\tvalidation_1-mlogloss:0.76455\tvalidation_1-merror:0.18254\n",
      "[79]\tvalidation_0-mlogloss:0.02088\tvalidation_0-merror:0.00000\tvalidation_1-mlogloss:0.76650\tvalidation_1-merror:0.18254\n",
      "[80]\tvalidation_0-mlogloss:0.02074\tvalidation_0-merror:0.00000\tvalidation_1-mlogloss:0.76542\tvalidation_1-merror:0.18254\n",
      "[81]\tvalidation_0-mlogloss:0.02053\tvalidation_0-merror:0.00000\tvalidation_1-mlogloss:0.76824\tvalidation_1-merror:0.18254\n",
      "[82]\tvalidation_0-mlogloss:0.02042\tvalidation_0-merror:0.00000\tvalidation_1-mlogloss:0.76735\tvalidation_1-merror:0.18254\n",
      "[83]\tvalidation_0-mlogloss:0.02026\tvalidation_0-merror:0.00000\tvalidation_1-mlogloss:0.77081\tvalidation_1-merror:0.18254\n",
      "[84]\tvalidation_0-mlogloss:0.02014\tvalidation_0-merror:0.00000\tvalidation_1-mlogloss:0.77146\tvalidation_1-merror:0.18254\n",
      "[85]\tvalidation_0-mlogloss:0.02003\tvalidation_0-merror:0.00000\tvalidation_1-mlogloss:0.77410\tvalidation_1-merror:0.18254\n",
      "[86]\tvalidation_0-mlogloss:0.01994\tvalidation_0-merror:0.00000\tvalidation_1-mlogloss:0.77442\tvalidation_1-merror:0.18254\n",
      "[87]\tvalidation_0-mlogloss:0.01983\tvalidation_0-merror:0.00000\tvalidation_1-mlogloss:0.77418\tvalidation_1-merror:0.18254\n",
      "[88]\tvalidation_0-mlogloss:0.01966\tvalidation_0-merror:0.00000\tvalidation_1-mlogloss:0.77799\tvalidation_1-merror:0.18254\n",
      "[89]\tvalidation_0-mlogloss:0.01956\tvalidation_0-merror:0.00000\tvalidation_1-mlogloss:0.77949\tvalidation_1-merror:0.18254\n",
      "[90]\tvalidation_0-mlogloss:0.01946\tvalidation_0-merror:0.00000\tvalidation_1-mlogloss:0.77817\tvalidation_1-merror:0.18254\n",
      "[91]\tvalidation_0-mlogloss:0.01933\tvalidation_0-merror:0.00000\tvalidation_1-mlogloss:0.78064\tvalidation_1-merror:0.18254\n",
      "[92]\tvalidation_0-mlogloss:0.01925\tvalidation_0-merror:0.00000\tvalidation_1-mlogloss:0.77984\tvalidation_1-merror:0.18254\n",
      "[93]\tvalidation_0-mlogloss:0.01910\tvalidation_0-merror:0.00000\tvalidation_1-mlogloss:0.78217\tvalidation_1-merror:0.18254\n",
      "[94]\tvalidation_0-mlogloss:0.01901\tvalidation_0-merror:0.00000\tvalidation_1-mlogloss:0.78292\tvalidation_1-merror:0.18254\n",
      "[95]\tvalidation_0-mlogloss:0.01892\tvalidation_0-merror:0.00000\tvalidation_1-mlogloss:0.78450\tvalidation_1-merror:0.18254\n",
      "[96]\tvalidation_0-mlogloss:0.01883\tvalidation_0-merror:0.00000\tvalidation_1-mlogloss:0.78477\tvalidation_1-merror:0.18254\n",
      "[97]\tvalidation_0-mlogloss:0.01875\tvalidation_0-merror:0.00000\tvalidation_1-mlogloss:0.78541\tvalidation_1-merror:0.18254\n",
      "[98]\tvalidation_0-mlogloss:0.01866\tvalidation_0-merror:0.00000\tvalidation_1-mlogloss:0.78555\tvalidation_1-merror:0.18254\n",
      "[99]\tvalidation_0-mlogloss:0.01859\tvalidation_0-merror:0.00000\tvalidation_1-mlogloss:0.78706\tvalidation_1-merror:0.18254\n",
      "Accuracy: 57.72%\n"
     ]
    },
    {
     "data": {
      "image/png": "[encoded data removed]",
      "text/plain": [
       "<Figure size 432x288 with 1 Axes>"
      ]
     },
     "metadata": {
      "needs_background": "light"
     },
     "output_type": "display_data"
    },
    {
     "data": {
      "image/png": "[encoded data removed]",
      "text/plain": [
       "<Figure size 432x288 with 1 Axes>"
      ]
     },
     "metadata": {
      "needs_background": "light"
     },
     "output_type": "display_data"
    }
   ],
   "source": [
    "model = XGBClassifier(objective='multi:softprob')\n",
    "eval_set = [(X_train, y_train), (X_test, y_test)]\n",
    "model.fit(X_train, y_train, eval_metric=[\"mlogloss\", \"merror\"], eval_set=eval_set, verbose=True)\n",
    "\n",
    "y_pred = model.predict(X_test)\n",
    "predictions = [round(value) for value in y_pred]\n",
    "\n",
    "accuracy = balanced_accuracy_score(y_test, predictions)\n",
    "print(\"Accuracy: %.2f%%\" % (accuracy * 100.0))\n",
    "\n",
    "results = model.evals_result()\n",
    "epochs = len(results['validation_0']['mlogloss'])\n",
    "x_axis = range(0, epochs)\n",
    "\n",
    "fig, ax = plt.subplots()\n",
    "ax.plot(x_axis, results['validation_0']['mlogloss'], label='Train')\n",
    "ax.plot(x_axis, results['validation_1']['mlogloss'], label='Test')\n",
    "ax.legend()\n",
    "plt.ylabel('mlogloss')\n",
    "plt.title('XGBoost mlogloss')\n",
    "plt.show()\n",
    "\n",
    "fig, ax = plt.subplots()\n",
    "ax.plot(x_axis, results['validation_0']['merror'], label='Train')\n",
    "ax.plot(x_axis, results['validation_1']['merror'], label='Test')\n",
    "ax.legend()\n",
    "plt.ylabel('Classification Error')\n",
    "plt.title('XGBoost Classification Error')\n",
    "plt.show()"
   ]
  },
  {
   "cell_type": "markdown",
   "metadata": {},
   "source": [
    "LogisticRegression"
   ]
  },
  {
   "cell_type": "code",
   "execution_count": 233,
   "metadata": {},
   "outputs": [],
   "source": [
    "clf_reg = LogisticRegression(random_state=0).fit(X_train, y_train)\n",
    "y_pred = clf_reg.predict(X_test)"
   ]
  },
  {
   "cell_type": "code",
   "execution_count": 234,
   "metadata": {},
   "outputs": [
    {
     "data": {
      "image/png": "[encoded data removed]",
      "text/plain": [
       "<Figure size 432x288 with 2 Axes>"
      ]
     },
     "metadata": {
      "needs_background": "light"
     },
     "output_type": "display_data"
    },
    {
     "name": "stdout",
     "output_type": "stream",
     "text": [
      "precision [0.875      0.85714286 0.        ]\n",
      "recall [1.         0.70588235 0.        ]\n",
      "fscore [0.93333333 0.77419355 0.        ]\n",
      "balanced accuracy 0.5686274509803922\n"
     ]
    }
   ],
   "source": [
    "plot_confusion_matrix(clf_reg, X_test, y_test)  \n",
    "prf=precision_recall_fscore_support(y_test, y_pred)\n",
    "b_accuracy=balanced_accuracy_score(y_test, y_pred)\n",
    "plt.show() \n",
    "print('precision',prf[0])\n",
    "print('recall',prf[1])\n",
    "print('fscore',prf[2])\n",
    "print('balanced accuracy', b_accuracy)"
   ]
  },
  {
   "cell_type": "code",
   "execution_count": null,
   "metadata": {},
   "outputs": [],
   "source": []
  }
 ],
 "metadata": {
  "kernelspec": {
   "display_name": "Python 3",
   "language": "python",
   "name": "python3"
  },
  "language_info": {
   "codemirror_mode": {
    "name": "ipython",
    "version": 3
   },
   "file_extension": ".py",
   "mimetype": "text/x-python",
   "name": "python",
   "nbconvert_exporter": "python",
   "pygments_lexer": "ipython3",
   "version": "3.7.4"
  }
 },
 "nbformat": 4,
 "nbformat_minor": 4
}
